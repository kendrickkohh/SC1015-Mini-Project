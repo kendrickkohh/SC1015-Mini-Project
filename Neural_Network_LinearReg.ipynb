{
 "cells": [
  {
   "cell_type": "markdown",
   "id": "1b4a5c5f",
   "metadata": {},
   "source": [
    "# Introduction:\n",
    "\n",
    "* After running our NUMERIC variables as a single-variate test using linear regression model, we try to improve the MSE of the variables G1, G2, Age and Absences to predict G3 using Neural Network (linear regression). \n",
    "\n",
    "\n",
    "* Additionally, we check if the shortlisted variables by K-means clustering has a better linear regression model (after improvements) as compared to the other numerical variables to use in the prediction of G3.\n",
    "\n",
    "\n",
    "* Tensorflow libraries were used to construct the neural network model. A constant model of 100 epochs, Adam optimiser and MAE evaluation metrics was used for all the variables due to the large and diverse dataset.\n",
    "\n",
    "\n",
    "* The MSE values single variate test using linear regression is represented in the markdown box after the representation of MSE and MAE values with every neural network mode training for comparison purposes."
   ]
  },
  {
   "cell_type": "code",
   "execution_count": 1,
   "id": "2d944e26",
   "metadata": {},
   "outputs": [],
   "source": [
    "import os \n",
    "os.environ['KMP_DUPLICATE_LIB_OK']='True'"
   ]
  },
  {
   "cell_type": "code",
   "execution_count": 2,
   "id": "e0b22d14",
   "metadata": {},
   "outputs": [],
   "source": [
    "import numpy as np\n",
    "import pandas as pd\n",
    "import seaborn as sb\n",
    "import matplotlib.pyplot as plt \n",
    "import tensorflow as tf\n",
    "from sklearn.model_selection import train_test_split\n",
    "from sklearn.preprocessing import StandardScaler\n",
    "from sklearn.metrics import mean_squared_error\n",
    "from sklearn.metrics import mean_absolute_error\n",
    "from sklearn.linear_model import LinearRegression\n",
    "sb.set() "
   ]
  },
  {
   "cell_type": "code",
   "execution_count": 3,
   "id": "29cf076d",
   "metadata": {},
   "outputs": [
    {
     "data": {
      "text/html": [
       "<div>\n",
       "<style scoped>\n",
       "    .dataframe tbody tr th:only-of-type {\n",
       "        vertical-align: middle;\n",
       "    }\n",
       "\n",
       "    .dataframe tbody tr th {\n",
       "        vertical-align: top;\n",
       "    }\n",
       "\n",
       "    .dataframe thead th {\n",
       "        text-align: right;\n",
       "    }\n",
       "</style>\n",
       "<table border=\"1\" class=\"dataframe\">\n",
       "  <thead>\n",
       "    <tr style=\"text-align: right;\">\n",
       "      <th></th>\n",
       "      <th>age</th>\n",
       "      <th>absences</th>\n",
       "      <th>G1</th>\n",
       "      <th>G2</th>\n",
       "      <th>G3</th>\n",
       "    </tr>\n",
       "  </thead>\n",
       "  <tbody>\n",
       "    <tr>\n",
       "      <th>0</th>\n",
       "      <td>18</td>\n",
       "      <td>4</td>\n",
       "      <td>0</td>\n",
       "      <td>11</td>\n",
       "      <td>11</td>\n",
       "    </tr>\n",
       "    <tr>\n",
       "      <th>1</th>\n",
       "      <td>17</td>\n",
       "      <td>2</td>\n",
       "      <td>9</td>\n",
       "      <td>11</td>\n",
       "      <td>11</td>\n",
       "    </tr>\n",
       "    <tr>\n",
       "      <th>2</th>\n",
       "      <td>15</td>\n",
       "      <td>6</td>\n",
       "      <td>12</td>\n",
       "      <td>13</td>\n",
       "      <td>12</td>\n",
       "    </tr>\n",
       "    <tr>\n",
       "      <th>3</th>\n",
       "      <td>15</td>\n",
       "      <td>0</td>\n",
       "      <td>14</td>\n",
       "      <td>14</td>\n",
       "      <td>14</td>\n",
       "    </tr>\n",
       "    <tr>\n",
       "      <th>4</th>\n",
       "      <td>16</td>\n",
       "      <td>0</td>\n",
       "      <td>11</td>\n",
       "      <td>13</td>\n",
       "      <td>13</td>\n",
       "    </tr>\n",
       "  </tbody>\n",
       "</table>\n",
       "</div>"
      ],
      "text/plain": [
       "   age  absences  G1  G2  G3\n",
       "0   18         4   0  11  11\n",
       "1   17         2   9  11  11\n",
       "2   15         6  12  13  12\n",
       "3   15         0  14  14  14\n",
       "4   16         0  11  13  13"
      ]
     },
     "execution_count": 3,
     "metadata": {},
     "output_type": "execute_result"
    }
   ],
   "source": [
    "studentData = pd.read_csv('student-por.csv', sep=';') \n",
    "newStudentData = pd.DataFrame(studentData[['age','absences','G1','G2','G3']])\n",
    "newStudentData.head()"
   ]
  },
  {
   "cell_type": "code",
   "execution_count": 4,
   "id": "112cffca",
   "metadata": {},
   "outputs": [
    {
     "data": {
      "text/html": [
       "<div>\n",
       "<style scoped>\n",
       "    .dataframe tbody tr th:only-of-type {\n",
       "        vertical-align: middle;\n",
       "    }\n",
       "\n",
       "    .dataframe tbody tr th {\n",
       "        vertical-align: top;\n",
       "    }\n",
       "\n",
       "    .dataframe thead th {\n",
       "        text-align: right;\n",
       "    }\n",
       "</style>\n",
       "<table border=\"1\" class=\"dataframe\">\n",
       "  <thead>\n",
       "    <tr style=\"text-align: right;\">\n",
       "      <th></th>\n",
       "      <th>age</th>\n",
       "      <th>absences</th>\n",
       "      <th>G1</th>\n",
       "      <th>G2</th>\n",
       "      <th>G3</th>\n",
       "    </tr>\n",
       "  </thead>\n",
       "  <tbody>\n",
       "    <tr>\n",
       "      <th>count</th>\n",
       "      <td>649.000000</td>\n",
       "      <td>649.000000</td>\n",
       "      <td>649.000000</td>\n",
       "      <td>649.000000</td>\n",
       "      <td>649.000000</td>\n",
       "    </tr>\n",
       "    <tr>\n",
       "      <th>mean</th>\n",
       "      <td>16.744222</td>\n",
       "      <td>3.659476</td>\n",
       "      <td>11.399076</td>\n",
       "      <td>11.570108</td>\n",
       "      <td>11.906009</td>\n",
       "    </tr>\n",
       "    <tr>\n",
       "      <th>std</th>\n",
       "      <td>1.218138</td>\n",
       "      <td>4.640759</td>\n",
       "      <td>2.745265</td>\n",
       "      <td>2.913639</td>\n",
       "      <td>3.230656</td>\n",
       "    </tr>\n",
       "    <tr>\n",
       "      <th>min</th>\n",
       "      <td>15.000000</td>\n",
       "      <td>0.000000</td>\n",
       "      <td>0.000000</td>\n",
       "      <td>0.000000</td>\n",
       "      <td>0.000000</td>\n",
       "    </tr>\n",
       "    <tr>\n",
       "      <th>25%</th>\n",
       "      <td>16.000000</td>\n",
       "      <td>0.000000</td>\n",
       "      <td>10.000000</td>\n",
       "      <td>10.000000</td>\n",
       "      <td>10.000000</td>\n",
       "    </tr>\n",
       "    <tr>\n",
       "      <th>50%</th>\n",
       "      <td>17.000000</td>\n",
       "      <td>2.000000</td>\n",
       "      <td>11.000000</td>\n",
       "      <td>11.000000</td>\n",
       "      <td>12.000000</td>\n",
       "    </tr>\n",
       "    <tr>\n",
       "      <th>75%</th>\n",
       "      <td>18.000000</td>\n",
       "      <td>6.000000</td>\n",
       "      <td>13.000000</td>\n",
       "      <td>13.000000</td>\n",
       "      <td>14.000000</td>\n",
       "    </tr>\n",
       "    <tr>\n",
       "      <th>max</th>\n",
       "      <td>22.000000</td>\n",
       "      <td>32.000000</td>\n",
       "      <td>19.000000</td>\n",
       "      <td>19.000000</td>\n",
       "      <td>19.000000</td>\n",
       "    </tr>\n",
       "  </tbody>\n",
       "</table>\n",
       "</div>"
      ],
      "text/plain": [
       "              age    absences          G1          G2          G3\n",
       "count  649.000000  649.000000  649.000000  649.000000  649.000000\n",
       "mean    16.744222    3.659476   11.399076   11.570108   11.906009\n",
       "std      1.218138    4.640759    2.745265    2.913639    3.230656\n",
       "min     15.000000    0.000000    0.000000    0.000000    0.000000\n",
       "25%     16.000000    0.000000   10.000000   10.000000   10.000000\n",
       "50%     17.000000    2.000000   11.000000   11.000000   12.000000\n",
       "75%     18.000000    6.000000   13.000000   13.000000   14.000000\n",
       "max     22.000000   32.000000   19.000000   19.000000   19.000000"
      ]
     },
     "execution_count": 4,
     "metadata": {},
     "output_type": "execute_result"
    }
   ],
   "source": [
    "newStudentData.describe()"
   ]
  },
  {
   "cell_type": "code",
   "execution_count": 5,
   "id": "e884b788",
   "metadata": {},
   "outputs": [
    {
     "name": "stdout",
     "output_type": "stream",
     "text": [
      "<class 'pandas.core.frame.DataFrame'>\n",
      "RangeIndex: 649 entries, 0 to 648\n",
      "Data columns (total 5 columns):\n",
      " #   Column    Non-Null Count  Dtype\n",
      "---  ------    --------------  -----\n",
      " 0   age       649 non-null    int64\n",
      " 1   absences  649 non-null    int64\n",
      " 2   G1        649 non-null    int64\n",
      " 3   G2        649 non-null    int64\n",
      " 4   G3        649 non-null    int64\n",
      "dtypes: int64(5)\n",
      "memory usage: 25.5 KB\n"
     ]
    }
   ],
   "source": [
    "newStudentData.info()"
   ]
  },
  {
   "cell_type": "markdown",
   "id": "65b087e1",
   "metadata": {},
   "source": [
    "# G1"
   ]
  },
  {
   "cell_type": "code",
   "execution_count": 36,
   "id": "fc11c445",
   "metadata": {},
   "outputs": [
    {
     "name": "stdout",
     "output_type": "stream",
     "text": [
      "Train Set : (519, 1) (519,)\n",
      "Test Set  : (130, 1) (130,)\n"
     ]
    }
   ],
   "source": [
    "y_G1 = studentData['G3']\n",
    "X_G1= newStudentData[['G1']]\n",
    "\n",
    "X_train_G1, X_test_G1, y_train_G1, y_test_G1 = train_test_split(X_G1, y_G1,test_size = 0.2)\n",
    "print(\"Train Set :\", X_train_G1.shape, y_train_G1.shape)\n",
    "print(\"Test Set  :\", X_test_G1.shape, y_test_G1.shape)"
   ]
  },
  {
   "cell_type": "code",
   "execution_count": 37,
   "id": "aca7b909",
   "metadata": {},
   "outputs": [
    {
     "data": {
      "text/plain": [
       "Text(0.5, 1.0, 'Linear Regression - G1 (Neural Network)')"
      ]
     },
     "execution_count": 37,
     "metadata": {},
     "output_type": "execute_result"
    },
    {
     "data": {
      "image/png": "[encoded data removed]",
      "text/plain": [
       "<Figure size 720x504 with 1 Axes>"
      ]
     },
     "metadata": {},
     "output_type": "display_data"
    }
   ],
   "source": [
    "plt.figure(figsize=(10, 7))\n",
    "\n",
    "# Plot training data in blue\n",
    "plt.scatter(X_train_G1, y_train_G1, c='b', label='Training data')\n",
    "\n",
    "# Plot test data in green\n",
    "plt.scatter(X_test_G1, y_test_G1, c='g', label='Testing data')\n",
    "\n",
    "# Show the legend\n",
    "plt.legend();\n",
    "\n",
    "plt.title(\"Linear Regression - G1 (Neural Network)\")"
   ]
  },
  {
   "cell_type": "code",
   "execution_count": 38,
   "id": "579cee78",
   "metadata": {},
   "outputs": [
    {
     "name": "stdout",
     "output_type": "stream",
     "text": [
      "Epoch 1/100\n",
      "17/17 [==============================] - 0s 864us/step - loss: 2.8329 - mae: 2.8329\n",
      "Epoch 2/100\n",
      "17/17 [==============================] - 0s 1ms/step - loss: 1.3581 - mae: 1.3581\n",
      "Epoch 3/100\n",
      "17/17 [==============================] - 0s 975us/step - loss: 1.2742 - mae: 1.2742\n",
      "Epoch 4/100\n",
      "17/17 [==============================] - 0s 940us/step - loss: 1.2598 - mae: 1.2598\n",
      "Epoch 5/100\n",
      "17/17 [==============================] - 0s 1ms/step - loss: 1.2470 - mae: 1.2470\n",
      "Epoch 6/100\n",
      "17/17 [==============================] - 0s 1ms/step - loss: 1.2498 - mae: 1.2498\n",
      "Epoch 7/100\n",
      "17/17 [==============================] - 0s 820us/step - loss: 1.2510 - mae: 1.2510\n",
      "Epoch 8/100\n",
      "17/17 [==============================] - 0s 888us/step - loss: 1.2369 - mae: 1.2369\n",
      "Epoch 9/100\n",
      "17/17 [==============================] - 0s 935us/step - loss: 1.2564 - mae: 1.2564\n",
      "Epoch 10/100\n",
      "17/17 [==============================] - 0s 907us/step - loss: 1.2524 - mae: 1.2524\n",
      "Epoch 11/100\n",
      "17/17 [==============================] - 0s 1ms/step - loss: 1.2322 - mae: 1.2322\n",
      "Epoch 12/100\n",
      "17/17 [==============================] - 0s 982us/step - loss: 1.2309 - mae: 1.2309\n",
      "Epoch 13/100\n",
      "17/17 [==============================] - 0s 962us/step - loss: 1.2236 - mae: 1.2236\n",
      "Epoch 14/100\n",
      "17/17 [==============================] - 0s 964us/step - loss: 1.2516 - mae: 1.2516\n",
      "Epoch 15/100\n",
      "17/17 [==============================] - 0s 894us/step - loss: 1.2366 - mae: 1.2366\n",
      "Epoch 16/100\n",
      "17/17 [==============================] - 0s 943us/step - loss: 1.2341 - mae: 1.2341\n",
      "Epoch 17/100\n",
      "17/17 [==============================] - 0s 939us/step - loss: 1.2292 - mae: 1.2292\n",
      "Epoch 18/100\n",
      "17/17 [==============================] - 0s 1ms/step - loss: 1.2528 - mae: 1.2528\n",
      "Epoch 19/100\n",
      "17/17 [==============================] - 0s 2ms/step - loss: 1.2180 - mae: 1.2180\n",
      "Epoch 20/100\n",
      "17/17 [==============================] - 0s 2ms/step - loss: 1.2137 - mae: 1.2137\n",
      "Epoch 21/100\n",
      "17/17 [==============================] - 0s 2ms/step - loss: 1.2223 - mae: 1.2223\n",
      "Epoch 22/100\n",
      "17/17 [==============================] - 0s 1ms/step - loss: 1.2163 - mae: 1.2163\n",
      "Epoch 23/100\n",
      "17/17 [==============================] - 0s 2ms/step - loss: 1.2087 - mae: 1.2087\n",
      "Epoch 24/100\n",
      "17/17 [==============================] - 0s 2ms/step - loss: 1.2219 - mae: 1.2219\n",
      "Epoch 25/100\n",
      "17/17 [==============================] - 0s 2ms/step - loss: 1.2770 - mae: 1.2770\n",
      "Epoch 26/100\n",
      "17/17 [==============================] - 0s 2ms/step - loss: 1.2301 - mae: 1.2301\n",
      "Epoch 27/100\n",
      "17/17 [==============================] - 0s 2ms/step - loss: 1.2321 - mae: 1.2321\n",
      "Epoch 28/100\n",
      "17/17 [==============================] - 0s 2ms/step - loss: 1.2179 - mae: 1.2179\n",
      "Epoch 29/100\n",
      "17/17 [==============================] - 0s 943us/step - loss: 1.2094 - mae: 1.2094\n",
      "Epoch 30/100\n",
      "17/17 [==============================] - 0s 981us/step - loss: 1.2126 - mae: 1.2126\n",
      "Epoch 31/100\n",
      "17/17 [==============================] - 0s 1ms/step - loss: 1.1951 - mae: 1.1951\n",
      "Epoch 32/100\n",
      "17/17 [==============================] - 0s 1ms/step - loss: 1.2099 - mae: 1.2099\n",
      "Epoch 33/100\n",
      "17/17 [==============================] - 0s 1ms/step - loss: 1.1982 - mae: 1.1982\n",
      "Epoch 34/100\n",
      "17/17 [==============================] - 0s 2ms/step - loss: 1.2026 - mae: 1.2026\n",
      "Epoch 35/100\n",
      "17/17 [==============================] - 0s 2ms/step - loss: 1.2044 - mae: 1.2044\n",
      "Epoch 36/100\n",
      "17/17 [==============================] - 0s 2ms/step - loss: 1.2181 - mae: 1.2181\n",
      "Epoch 37/100\n",
      "17/17 [==============================] - 0s 724us/step - loss: 1.2234 - mae: 1.2234\n",
      "Epoch 38/100\n",
      "17/17 [==============================] - 0s 911us/step - loss: 1.2099 - mae: 1.2099\n",
      "Epoch 39/100\n",
      "17/17 [==============================] - 0s 868us/step - loss: 1.2073 - mae: 1.2073\n",
      "Epoch 40/100\n",
      "17/17 [==============================] - 0s 983us/step - loss: 1.2365 - mae: 1.2365\n",
      "Epoch 41/100\n",
      "17/17 [==============================] - 0s 2ms/step - loss: 1.2639 - mae: 1.2639\n",
      "Epoch 42/100\n",
      "17/17 [==============================] - 0s 2ms/step - loss: 1.2002 - mae: 1.2002\n",
      "Epoch 43/100\n",
      "17/17 [==============================] - 0s 1ms/step - loss: 1.2151 - mae: 1.2151\n",
      "Epoch 44/100\n",
      "17/17 [==============================] - 0s 2ms/step - loss: 1.1920 - mae: 1.1920\n",
      "Epoch 45/100\n",
      "17/17 [==============================] - 0s 1ms/step - loss: 1.1890 - mae: 1.1890\n",
      "Epoch 46/100\n",
      "17/17 [==============================] - 0s 1ms/step - loss: 1.2134 - mae: 1.2134\n",
      "Epoch 47/100\n",
      "17/17 [==============================] - 0s 2ms/step - loss: 1.2067 - mae: 1.2067\n",
      "Epoch 48/100\n",
      "17/17 [==============================] - 0s 2ms/step - loss: 1.2086 - mae: 1.2086\n",
      "Epoch 49/100\n",
      "17/17 [==============================] - 0s 1ms/step - loss: 1.2195 - mae: 1.2195\n",
      "Epoch 50/100\n",
      "17/17 [==============================] - 0s 1ms/step - loss: 1.2167 - mae: 1.2167\n",
      "Epoch 51/100\n",
      "17/17 [==============================] - 0s 2ms/step - loss: 1.1964 - mae: 1.1964\n",
      "Epoch 52/100\n",
      "17/17 [==============================] - 0s 1ms/step - loss: 1.2149 - mae: 1.2149\n",
      "Epoch 53/100\n",
      "17/17 [==============================] - 0s 1ms/step - loss: 1.2170 - mae: 1.2170\n",
      "Epoch 54/100\n",
      "17/17 [==============================] - 0s 829us/step - loss: 1.2005 - mae: 1.2005\n",
      "Epoch 55/100\n",
      "17/17 [==============================] - 0s 1ms/step - loss: 1.1904 - mae: 1.1904\n",
      "Epoch 56/100\n",
      "17/17 [==============================] - 0s 848us/step - loss: 1.2030 - mae: 1.2030\n",
      "Epoch 57/100\n",
      "17/17 [==============================] - 0s 1ms/step - loss: 1.2198 - mae: 1.2198\n",
      "Epoch 58/100\n",
      "17/17 [==============================] - 0s 929us/step - loss: 1.2055 - mae: 1.2055\n",
      "Epoch 59/100\n",
      "17/17 [==============================] - 0s 821us/step - loss: 1.2109 - mae: 1.2109\n",
      "Epoch 60/100\n",
      "17/17 [==============================] - 0s 837us/step - loss: 1.2294 - mae: 1.2294\n",
      "Epoch 61/100\n",
      "17/17 [==============================] - 0s 823us/step - loss: 1.2304 - mae: 1.2304\n",
      "Epoch 62/100\n",
      "17/17 [==============================] - 0s 1ms/step - loss: 1.2205 - mae: 1.2205\n",
      "Epoch 63/100\n",
      "17/17 [==============================] - 0s 819us/step - loss: 1.2003 - mae: 1.2003\n",
      "Epoch 64/100\n",
      "17/17 [==============================] - 0s 843us/step - loss: 1.1952 - mae: 1.1952\n",
      "Epoch 65/100\n",
      "17/17 [==============================] - 0s 811us/step - loss: 1.1963 - mae: 1.1963\n",
      "Epoch 66/100\n",
      "17/17 [==============================] - 0s 820us/step - loss: 1.1986 - mae: 1.1986\n",
      "Epoch 67/100\n",
      "17/17 [==============================] - 0s 808us/step - loss: 1.1928 - mae: 1.1928\n",
      "Epoch 68/100\n",
      "17/17 [==============================] - 0s 803us/step - loss: 1.1956 - mae: 1.1956\n",
      "Epoch 69/100\n",
      "17/17 [==============================] - 0s 912us/step - loss: 1.1933 - mae: 1.1933\n",
      "Epoch 70/100\n",
      "17/17 [==============================] - 0s 780us/step - loss: 1.2038 - mae: 1.2038\n",
      "Epoch 71/100\n",
      "17/17 [==============================] - 0s 770us/step - loss: 1.2168 - mae: 1.2168\n",
      "Epoch 72/100\n",
      "17/17 [==============================] - 0s 776us/step - loss: 1.2177 - mae: 1.2177\n",
      "Epoch 73/100\n",
      "17/17 [==============================] - 0s 877us/step - loss: 1.2679 - mae: 1.2679\n",
      "Epoch 74/100\n",
      "17/17 [==============================] - 0s 841us/step - loss: 1.2321 - mae: 1.2321\n",
      "Epoch 75/100\n",
      "17/17 [==============================] - 0s 875us/step - loss: 1.2290 - mae: 1.2290\n",
      "Epoch 76/100\n",
      "17/17 [==============================] - 0s 843us/step - loss: 1.2021 - mae: 1.2021\n",
      "Epoch 77/100\n",
      "17/17 [==============================] - 0s 1ms/step - loss: 1.2014 - mae: 1.2014\n",
      "Epoch 78/100\n",
      "17/17 [==============================] - 0s 919us/step - loss: 1.2220 - mae: 1.2220\n",
      "Epoch 79/100\n",
      "17/17 [==============================] - 0s 887us/step - loss: 1.1849 - mae: 1.1849\n",
      "Epoch 80/100\n",
      "17/17 [==============================] - 0s 875us/step - loss: 1.1979 - mae: 1.1979\n",
      "Epoch 81/100\n",
      "17/17 [==============================] - 0s 955us/step - loss: 1.1936 - mae: 1.1936\n",
      "Epoch 82/100\n",
      "17/17 [==============================] - 0s 996us/step - loss: 1.2040 - mae: 1.2040\n",
      "Epoch 83/100\n",
      "17/17 [==============================] - 0s 845us/step - loss: 1.2176 - mae: 1.2176\n",
      "Epoch 84/100\n",
      "17/17 [==============================] - 0s 1ms/step - loss: 1.1907 - mae: 1.1907\n",
      "Epoch 85/100\n",
      "17/17 [==============================] - 0s 878us/step - loss: 1.1958 - mae: 1.1958\n",
      "Epoch 86/100\n"
     ]
    },
    {
     "name": "stdout",
     "output_type": "stream",
     "text": [
      "17/17 [==============================] - 0s 841us/step - loss: 1.2002 - mae: 1.2002\n",
      "Epoch 87/100\n",
      "17/17 [==============================] - 0s 862us/step - loss: 1.2070 - mae: 1.2070\n",
      "Epoch 88/100\n",
      "17/17 [==============================] - 0s 910us/step - loss: 1.2233 - mae: 1.2233\n",
      "Epoch 89/100\n",
      "17/17 [==============================] - 0s 803us/step - loss: 1.2102 - mae: 1.2102\n",
      "Epoch 90/100\n",
      "17/17 [==============================] - 0s 783us/step - loss: 1.2368 - mae: 1.2368\n",
      "Epoch 91/100\n",
      "17/17 [==============================] - 0s 1ms/step - loss: 1.1980 - mae: 1.1980\n",
      "Epoch 92/100\n",
      "17/17 [==============================] - 0s 806us/step - loss: 1.1970 - mae: 1.1970\n",
      "Epoch 93/100\n",
      "17/17 [==============================] - 0s 964us/step - loss: 1.1964 - mae: 1.1964\n",
      "Epoch 94/100\n",
      "17/17 [==============================] - 0s 925us/step - loss: 1.1952 - mae: 1.1952\n",
      "Epoch 95/100\n",
      "17/17 [==============================] - 0s 819us/step - loss: 1.2045 - mae: 1.2045\n",
      "Epoch 96/100\n",
      "17/17 [==============================] - 0s 800us/step - loss: 1.1906 - mae: 1.1906\n",
      "Epoch 97/100\n",
      "17/17 [==============================] - 0s 759us/step - loss: 1.2350 - mae: 1.2350\n",
      "Epoch 98/100\n",
      "17/17 [==============================] - 0s 713us/step - loss: 1.2038 - mae: 1.2038\n",
      "Epoch 99/100\n",
      "17/17 [==============================] - 0s 1ms/step - loss: 1.1939 - mae: 1.1939\n",
      "Epoch 100/100\n",
      "17/17 [==============================] - 0s 797us/step - loss: 1.2006 - mae: 1.2006\n"
     ]
    }
   ],
   "source": [
    "tf.random.set_seed(42)\n",
    "\n",
    "# Create a model\n",
    "model = tf.keras.Sequential([\n",
    "  tf.keras.layers.Dense(100), # 100 units\n",
    "  tf.keras.layers.Dense(10), # 10 units\n",
    "  tf.keras.layers.Dense(1) # 1 unit (important for output layer)\n",
    "])\n",
    "\n",
    "# Compile model\n",
    "model.compile(loss=tf.keras.losses.mae,\n",
    "              optimizer=tf.keras.optimizers.Adam(),\n",
    "              metrics=[\"mae\"])\n",
    "\n",
    "# Fit the model to the training data\n",
    "history_G1 = model.fit(X_train_G1, y_train_G1, epochs=100, verbose=1) # verbose controls how much gets output"
   ]
  },
  {
   "cell_type": "markdown",
   "id": "ea1cde5b",
   "metadata": {},
   "source": [
    "### We check that there is a decreasing trend for the loss and mae function to ensure that the model is improving through the training of the model"
   ]
  },
  {
   "cell_type": "code",
   "execution_count": 39,
   "id": "d2a22a82",
   "metadata": {
    "scrolled": true
   },
   "outputs": [
    {
     "data": {
      "image/png": "[encoded data removed]",
      "text/plain": [
       "<Figure size 432x288 with 1 Axes>"
      ]
     },
     "metadata": {},
     "output_type": "display_data"
    }
   ],
   "source": [
    "# Plot history (also known as a loss curve)\n",
    "pd.DataFrame(history_G1.history).plot()\n",
    "plt.ylabel(\"loss\")\n",
    "plt.xlabel(\"epochs\");"
   ]
  },
  {
   "cell_type": "markdown",
   "id": "7117dd73",
   "metadata": {},
   "source": [
    "Calling summary() on our model shows us the layers it contains, the output shape and the number of parameters.\n",
    "\n",
    "> Total params - total number of parameters in the model.\n",
    "\n",
    "> Trainable parameters - these are the parameters (patterns) the model can update as it trains.\n",
    "\n",
    "> Non-trainable parameters - these parameters aren't updated during training (this is typical when you bring in the already learned patterns from other models during transfer learning)."
   ]
  },
  {
   "cell_type": "code",
   "execution_count": 40,
   "id": "4462fd12",
   "metadata": {},
   "outputs": [
    {
     "name": "stdout",
     "output_type": "stream",
     "text": [
      "Model: \"sequential_4\"\n",
      "_________________________________________________________________\n",
      " Layer (type)                Output Shape              Param #   \n",
      "=================================================================\n",
      " dense_12 (Dense)            (None, 100)               200       \n",
      "                                                                 \n",
      " dense_13 (Dense)            (None, 10)                1010      \n",
      "                                                                 \n",
      " dense_14 (Dense)            (None, 1)                 11        \n",
      "                                                                 \n",
      "=================================================================\n",
      "Total params: 1,221\n",
      "Trainable params: 1,221\n",
      "Non-trainable params: 0\n",
      "_________________________________________________________________\n"
     ]
    }
   ],
   "source": [
    "model.summary()"
   ]
  },
  {
   "cell_type": "code",
   "execution_count": 41,
   "id": "be12c626",
   "metadata": {},
   "outputs": [
    {
     "name": "stdout",
     "output_type": "stream",
     "text": [
      "5/5 [==============================] - 0s 2ms/step\n"
     ]
    }
   ],
   "source": [
    "y_test_predNN_G1 = model.predict(X_test_G1)"
   ]
  },
  {
   "cell_type": "code",
   "execution_count": 42,
   "id": "f2081aef",
   "metadata": {},
   "outputs": [],
   "source": [
    "#defining functions to be used for NN evaluation\n",
    "\n",
    "def plot_predictions(train_data=X_train_G1, \n",
    "                     train_labels=y_train_G1, \n",
    "                     test_data=X_test_G1, \n",
    "                     test_labels=y_test_G1, \n",
    "                     predictions=y_test_predNN_G1):\n",
    "  \"\"\"\n",
    "  Plots training data, test data and compares predictions.\n",
    "  \"\"\"\n",
    "  plt.figure(figsize=(10, 7))\n",
    "  # Plot training data in blue\n",
    "  plt.scatter(train_data, train_labels, c=\"b\", label=\"Training data\")\n",
    "  # Plot test data in green\n",
    "  plt.scatter(test_data, test_labels, c=\"g\", label=\"Testing data\")\n",
    "  # Plot the predictions in red (predictions were made on the test data)\n",
    "  plt.scatter(test_data, predictions, c=\"r\", label=\"Predictions\")\n",
    "  # Show the legend\n",
    "  plt.legend();\n",
    "    \n",
    "def mae(y_test_G1, y_test_pred_G1):\n",
    "  \"\"\"\n",
    "  Calculuates mean absolute error between y_test and y_preds.\n",
    "  \"\"\"\n",
    "  return tf.metrics.mean_absolute_error(y_test_G1,\n",
    "                                        y_test_pred_G1)\n",
    "  \n",
    "def mse(y_test_G1, y_test_pred_G1):\n",
    "  \"\"\"\n",
    "  Calculates mean squared error between y_test and y_preds.\n",
    "  \"\"\"\n",
    "  return tf.metrics.mean_squared_error(y_test_G1,\n",
    "                                       y_test_pred_G1)"
   ]
  },
  {
   "cell_type": "code",
   "execution_count": 43,
   "id": "7348667d",
   "metadata": {},
   "outputs": [
    {
     "data": {
      "text/plain": [
       "Text(0.5, 1.0, 'Linear Regression - G1 (Neural Network)')"
      ]
     },
     "execution_count": 43,
     "metadata": {},
     "output_type": "execute_result"
    },
    {
     "data": {
      "image/png": "[encoded data removed]",
      "text/plain": [
       "<Figure size 720x504 with 1 Axes>"
      ]
     },
     "metadata": {},
     "output_type": "display_data"
    }
   ],
   "source": [
    "plot_predictions(train_data=X_train_G1,\n",
    "                 train_labels=y_train_G1,\n",
    "                 test_data=X_test_G1,\n",
    "                 test_labels=y_test_G1,\n",
    "                 predictions=y_test_predNN_G1)\n",
    "plt.title(\"Linear Regression - G1 (Neural Network)\")"
   ]
  },
  {
   "cell_type": "code",
   "execution_count": 44,
   "id": "9613d1b1",
   "metadata": {},
   "outputs": [
    {
     "name": "stdout",
     "output_type": "stream",
     "text": [
      "Mean Squared Error - MSE (Neural Network - Test) \t: 2.8900163\n",
      "Mean Absolute Error - MAE (Neural Network - Test) \t: 1.0813884\n"
     ]
    }
   ],
   "source": [
    "# Evaluate the model on the test set\n",
    "\n",
    "mae_G1 = mae(y_test_G1, y_test_predNN_G1.squeeze()).numpy()\n",
    "mse_G1 = mse(y_test_G1, y_test_predNN_G1.squeeze()).numpy()\n",
    "print(\"Mean Squared Error - MSE (Neural Network - Test) \\t:\", mse_G1)\n",
    "print(\"Mean Absolute Error - MAE (Neural Network - Test) \\t:\", mae_G1)"
   ]
  },
  {
   "cell_type": "markdown",
   "id": "28459214",
   "metadata": {},
   "source": [
    "    Mean Squared Error - MSE (Linear Regression - Test) \t: 3.5113399670185923"
   ]
  },
  {
   "cell_type": "markdown",
   "id": "80bdf0cc",
   "metadata": {},
   "source": [
    "# G2"
   ]
  },
  {
   "cell_type": "code",
   "execution_count": 59,
   "id": "ff05eca1",
   "metadata": {
    "scrolled": false
   },
   "outputs": [
    {
     "name": "stdout",
     "output_type": "stream",
     "text": [
      "Train Set : (519, 1) (519,)\n",
      "Test Set  : (130, 1) (130,)\n"
     ]
    }
   ],
   "source": [
    "y_G2 = studentData['G3']\n",
    "X_G2= newStudentData[['G2']]\n",
    "\n",
    "X_train_G2, X_test_G2, y_train_G2, y_test_G2 = train_test_split(X_G2, y_G2,test_size = 0.2)\n",
    "print(\"Train Set :\", X_train_G2.shape, y_train_G2.shape)\n",
    "print(\"Test Set  :\", X_test_G2.shape, y_test_G2.shape)"
   ]
  },
  {
   "cell_type": "code",
   "execution_count": 60,
   "id": "beec0d2f",
   "metadata": {},
   "outputs": [
    {
     "data": {
      "text/plain": [
       "Text(0.5, 1.0, 'Linear Regression - G2 (Neural Network)')"
      ]
     },
     "execution_count": 60,
     "metadata": {},
     "output_type": "execute_result"
    },
    {
     "data": {
      "image/png": "[encoded data removed]",
      "text/plain": [
       "<Figure size 720x504 with 1 Axes>"
      ]
     },
     "metadata": {},
     "output_type": "display_data"
    }
   ],
   "source": [
    "plt.figure(figsize=(10, 7))\n",
    "\n",
    "# Plot training data in blue\n",
    "plt.scatter(X_train_G2, y_train_G2, c='b', label='Training data')\n",
    "\n",
    "# Plot test data in green\n",
    "plt.scatter(X_test_G2, y_test_G2, c='g', label='Testing data')\n",
    "\n",
    "# Show the legend\n",
    "plt.legend();\n",
    "\n",
    "plt.title(\"Linear Regression - G2 (Neural Network)\")"
   ]
  },
  {
   "cell_type": "code",
   "execution_count": 61,
   "id": "b3626f62",
   "metadata": {},
   "outputs": [
    {
     "name": "stdout",
     "output_type": "stream",
     "text": [
      "Epoch 1/100\n",
      "17/17 [==============================] - 0s 912us/step - loss: 2.6020 - mae: 2.6020\n",
      "Epoch 2/100\n",
      "17/17 [==============================] - 0s 1ms/step - loss: 1.0012 - mae: 1.0012\n",
      "Epoch 3/100\n",
      "17/17 [==============================] - 0s 1ms/step - loss: 0.8606 - mae: 0.8606\n",
      "Epoch 4/100\n",
      "17/17 [==============================] - 0s 909us/step - loss: 0.8498 - mae: 0.8498\n",
      "Epoch 5/100\n",
      "17/17 [==============================] - 0s 874us/step - loss: 0.8456 - mae: 0.8456\n",
      "Epoch 6/100\n",
      "17/17 [==============================] - 0s 1ms/step - loss: 0.7813 - mae: 0.7813\n",
      "Epoch 7/100\n",
      "17/17 [==============================] - 0s 844us/step - loss: 0.7886 - mae: 0.7886\n",
      "Epoch 8/100\n",
      "17/17 [==============================] - 0s 925us/step - loss: 0.8118 - mae: 0.8118\n",
      "Epoch 9/100\n",
      "17/17 [==============================] - 0s 909us/step - loss: 0.7734 - mae: 0.7734\n",
      "Epoch 10/100\n",
      "17/17 [==============================] - 0s 921us/step - loss: 0.7772 - mae: 0.7772\n",
      "Epoch 11/100\n",
      "17/17 [==============================] - 0s 934us/step - loss: 0.8544 - mae: 0.8544\n",
      "Epoch 12/100\n",
      "17/17 [==============================] - 0s 962us/step - loss: 0.8151 - mae: 0.8151\n",
      "Epoch 13/100\n",
      "17/17 [==============================] - 0s 1ms/step - loss: 0.8389 - mae: 0.8389\n",
      "Epoch 14/100\n",
      "17/17 [==============================] - 0s 986us/step - loss: 0.8491 - mae: 0.8491\n",
      "Epoch 15/100\n",
      "17/17 [==============================] - 0s 915us/step - loss: 0.8244 - mae: 0.8244\n",
      "Epoch 16/100\n",
      "17/17 [==============================] - 0s 854us/step - loss: 0.7786 - mae: 0.7786\n",
      "Epoch 17/100\n",
      "17/17 [==============================] - 0s 905us/step - loss: 0.7766 - mae: 0.7766\n",
      "Epoch 18/100\n",
      "17/17 [==============================] - 0s 991us/step - loss: 0.7788 - mae: 0.7788\n",
      "Epoch 19/100\n",
      "17/17 [==============================] - 0s 1ms/step - loss: 0.7759 - mae: 0.7759\n",
      "Epoch 20/100\n",
      "17/17 [==============================] - 0s 985us/step - loss: 0.7955 - mae: 0.7955\n",
      "Epoch 21/100\n",
      "17/17 [==============================] - 0s 989us/step - loss: 0.7740 - mae: 0.7740\n",
      "Epoch 22/100\n",
      "17/17 [==============================] - 0s 924us/step - loss: 0.7703 - mae: 0.7703\n",
      "Epoch 23/100\n",
      "17/17 [==============================] - 0s 2ms/step - loss: 0.7906 - mae: 0.7906\n",
      "Epoch 24/100\n",
      "17/17 [==============================] - 0s 2ms/step - loss: 0.8046 - mae: 0.8046\n",
      "Epoch 25/100\n",
      "17/17 [==============================] - 0s 2ms/step - loss: 0.8106 - mae: 0.8106\n",
      "Epoch 26/100\n",
      "17/17 [==============================] - 0s 2ms/step - loss: 0.7976 - mae: 0.7976\n",
      "Epoch 27/100\n",
      "17/17 [==============================] - 0s 1ms/step - loss: 0.8201 - mae: 0.8201\n",
      "Epoch 28/100\n",
      "17/17 [==============================] - 0s 2ms/step - loss: 0.8240 - mae: 0.8240\n",
      "Epoch 29/100\n",
      "17/17 [==============================] - 0s 955us/step - loss: 0.7835 - mae: 0.7835\n",
      "Epoch 30/100\n",
      "17/17 [==============================] - 0s 1ms/step - loss: 0.7869 - mae: 0.7869\n",
      "Epoch 31/100\n",
      "17/17 [==============================] - 0s 1ms/step - loss: 0.7846 - mae: 0.7846\n",
      "Epoch 32/100\n",
      "17/17 [==============================] - 0s 2ms/step - loss: 0.7758 - mae: 0.7758\n",
      "Epoch 33/100\n",
      "17/17 [==============================] - 0s 2ms/step - loss: 0.7917 - mae: 0.7917\n",
      "Epoch 34/100\n",
      "17/17 [==============================] - 0s 2ms/step - loss: 0.7804 - mae: 0.7804\n",
      "Epoch 35/100\n",
      "17/17 [==============================] - 0s 852us/step - loss: 0.7813 - mae: 0.7813\n",
      "Epoch 36/100\n",
      "17/17 [==============================] - 0s 1ms/step - loss: 0.7900 - mae: 0.7900\n",
      "Epoch 37/100\n",
      "17/17 [==============================] - 0s 1ms/step - loss: 0.7818 - mae: 0.7818\n",
      "Epoch 38/100\n",
      "17/17 [==============================] - 0s 1ms/step - loss: 0.8010 - mae: 0.8010\n",
      "Epoch 39/100\n",
      "17/17 [==============================] - 0s 2ms/step - loss: 0.7842 - mae: 0.7842\n",
      "Epoch 40/100\n",
      "17/17 [==============================] - 0s 2ms/step - loss: 0.7784 - mae: 0.7784\n",
      "Epoch 41/100\n",
      "17/17 [==============================] - 0s 826us/step - loss: 0.7823 - mae: 0.7823\n",
      "Epoch 42/100\n",
      "17/17 [==============================] - 0s 1ms/step - loss: 0.7984 - mae: 0.7984\n",
      "Epoch 43/100\n",
      "17/17 [==============================] - 0s 1ms/step - loss: 0.8002 - mae: 0.8002\n",
      "Epoch 44/100\n",
      "17/17 [==============================] - 0s 1ms/step - loss: 0.7985 - mae: 0.7985\n",
      "Epoch 45/100\n",
      "17/17 [==============================] - 0s 892us/step - loss: 0.7906 - mae: 0.7906\n",
      "Epoch 46/100\n",
      "17/17 [==============================] - 0s 2ms/step - loss: 0.7842 - mae: 0.7842\n",
      "Epoch 47/100\n",
      "17/17 [==============================] - 0s 1ms/step - loss: 0.7759 - mae: 0.7759\n",
      "Epoch 48/100\n",
      "17/17 [==============================] - 0s 896us/step - loss: 0.8060 - mae: 0.8060\n",
      "Epoch 49/100\n",
      "17/17 [==============================] - 0s 1ms/step - loss: 0.7993 - mae: 0.7993\n",
      "Epoch 50/100\n",
      "17/17 [==============================] - 0s 928us/step - loss: 0.8130 - mae: 0.8130\n",
      "Epoch 51/100\n",
      "17/17 [==============================] - 0s 1ms/step - loss: 0.8397 - mae: 0.8397\n",
      "Epoch 52/100\n",
      "17/17 [==============================] - 0s 984us/step - loss: 0.7861 - mae: 0.7861\n",
      "Epoch 53/100\n",
      "17/17 [==============================] - 0s 1ms/step - loss: 0.7726 - mae: 0.7726\n",
      "Epoch 54/100\n",
      "17/17 [==============================] - 0s 905us/step - loss: 0.7971 - mae: 0.7971\n",
      "Epoch 55/100\n",
      "17/17 [==============================] - 0s 999us/step - loss: 0.7738 - mae: 0.7738\n",
      "Epoch 56/100\n",
      "17/17 [==============================] - 0s 938us/step - loss: 0.7799 - mae: 0.7799\n",
      "Epoch 57/100\n",
      "17/17 [==============================] - 0s 833us/step - loss: 0.8028 - mae: 0.8028\n",
      "Epoch 58/100\n",
      "17/17 [==============================] - 0s 923us/step - loss: 0.7735 - mae: 0.7735\n",
      "Epoch 59/100\n",
      "17/17 [==============================] - 1s 64ms/step - loss: 0.7928 - mae: 0.7928\n",
      "Epoch 60/100\n",
      "17/17 [==============================] - 0s 723us/step - loss: 0.8106 - mae: 0.8106\n",
      "Epoch 61/100\n",
      "17/17 [==============================] - 0s 737us/step - loss: 0.8285 - mae: 0.8285\n",
      "Epoch 62/100\n",
      "17/17 [==============================] - 0s 822us/step - loss: 0.8125 - mae: 0.8125\n",
      "Epoch 63/100\n",
      "17/17 [==============================] - 0s 898us/step - loss: 0.8869 - mae: 0.8869\n",
      "Epoch 64/100\n",
      "17/17 [==============================] - 0s 1ms/step - loss: 0.8205 - mae: 0.8205\n",
      "Epoch 65/100\n",
      "17/17 [==============================] - 0s 706us/step - loss: 0.7754 - mae: 0.7754\n",
      "Epoch 66/100\n",
      "17/17 [==============================] - 0s 803us/step - loss: 0.7787 - mae: 0.7787\n",
      "Epoch 67/100\n",
      "17/17 [==============================] - 0s 810us/step - loss: 0.7830 - mae: 0.7830\n",
      "Epoch 68/100\n",
      "17/17 [==============================] - 0s 834us/step - loss: 0.8016 - mae: 0.8016\n",
      "Epoch 69/100\n",
      "17/17 [==============================] - 0s 882us/step - loss: 0.8157 - mae: 0.8157\n",
      "Epoch 70/100\n",
      "17/17 [==============================] - 0s 851us/step - loss: 0.8047 - mae: 0.8047\n",
      "Epoch 71/100\n",
      "17/17 [==============================] - 0s 918us/step - loss: 0.7890 - mae: 0.7890\n",
      "Epoch 72/100\n",
      "17/17 [==============================] - 0s 809us/step - loss: 0.8124 - mae: 0.8124\n",
      "Epoch 73/100\n",
      "17/17 [==============================] - 0s 826us/step - loss: 0.7772 - mae: 0.7772\n",
      "Epoch 74/100\n",
      "17/17 [==============================] - 0s 777us/step - loss: 0.8205 - mae: 0.8205\n",
      "Epoch 75/100\n",
      "17/17 [==============================] - 0s 807us/step - loss: 0.7870 - mae: 0.7870\n",
      "Epoch 76/100\n",
      "17/17 [==============================] - 0s 851us/step - loss: 0.7910 - mae: 0.7910\n",
      "Epoch 77/100\n",
      "17/17 [==============================] - 0s 894us/step - loss: 0.8441 - mae: 0.8441\n",
      "Epoch 78/100\n",
      "17/17 [==============================] - 0s 894us/step - loss: 0.8315 - mae: 0.8315\n",
      "Epoch 79/100\n",
      "17/17 [==============================] - 0s 1ms/step - loss: 0.7995 - mae: 0.7995\n",
      "Epoch 80/100\n",
      "17/17 [==============================] - 0s 781us/step - loss: 0.7780 - mae: 0.7780\n",
      "Epoch 81/100\n",
      "17/17 [==============================] - 0s 805us/step - loss: 0.8066 - mae: 0.8066\n",
      "Epoch 82/100\n",
      "17/17 [==============================] - 0s 790us/step - loss: 0.7702 - mae: 0.7702\n",
      "Epoch 83/100\n",
      "17/17 [==============================] - 0s 830us/step - loss: 0.7707 - mae: 0.7707\n",
      "Epoch 84/100\n",
      "17/17 [==============================] - 0s 907us/step - loss: 0.8057 - mae: 0.8057\n",
      "Epoch 85/100\n",
      "17/17 [==============================] - 0s 841us/step - loss: 0.7787 - mae: 0.7787\n",
      "Epoch 86/100\n"
     ]
    },
    {
     "name": "stdout",
     "output_type": "stream",
     "text": [
      "17/17 [==============================] - 0s 1ms/step - loss: 0.7848 - mae: 0.7848\n",
      "Epoch 87/100\n",
      "17/17 [==============================] - 0s 896us/step - loss: 0.7723 - mae: 0.7723\n",
      "Epoch 88/100\n",
      "17/17 [==============================] - 0s 901us/step - loss: 0.8358 - mae: 0.8358\n",
      "Epoch 89/100\n",
      "17/17 [==============================] - 0s 747us/step - loss: 0.8814 - mae: 0.8814\n",
      "Epoch 90/100\n",
      "17/17 [==============================] - 0s 735us/step - loss: 0.7733 - mae: 0.7733\n",
      "Epoch 91/100\n",
      "17/17 [==============================] - 0s 729us/step - loss: 0.7708 - mae: 0.7708\n",
      "Epoch 92/100\n",
      "17/17 [==============================] - 0s 752us/step - loss: 0.7985 - mae: 0.7985\n",
      "Epoch 93/100\n",
      "17/17 [==============================] - 0s 768us/step - loss: 0.7822 - mae: 0.7822\n",
      "Epoch 94/100\n",
      "17/17 [==============================] - 0s 1ms/step - loss: 0.7790 - mae: 0.7790\n",
      "Epoch 95/100\n",
      "17/17 [==============================] - 0s 748us/step - loss: 0.7862 - mae: 0.7862\n",
      "Epoch 96/100\n",
      "17/17 [==============================] - 0s 697us/step - loss: 0.8055 - mae: 0.8055\n",
      "Epoch 97/100\n",
      "17/17 [==============================] - 0s 754us/step - loss: 0.7717 - mae: 0.7717\n",
      "Epoch 98/100\n",
      "17/17 [==============================] - 0s 743us/step - loss: 0.7779 - mae: 0.7779\n",
      "Epoch 99/100\n",
      "17/17 [==============================] - 0s 766us/step - loss: 0.7784 - mae: 0.7784\n",
      "Epoch 100/100\n",
      "17/17 [==============================] - 0s 765us/step - loss: 0.7690 - mae: 0.7690\n"
     ]
    }
   ],
   "source": [
    "tf.random.set_seed(42)\n",
    "\n",
    "# Create a model\n",
    "model = tf.keras.Sequential([\n",
    "  tf.keras.layers.Dense(100), # 100 units\n",
    "  tf.keras.layers.Dense(10), # 10 units\n",
    "  tf.keras.layers.Dense(1) # 1 unit (important for output layer)\n",
    "])\n",
    "\n",
    "# Compile model\n",
    "model.compile(loss=tf.keras.losses.mae,\n",
    "              optimizer=tf.keras.optimizers.Adam(),\n",
    "              metrics=[\"mae\"])\n",
    "\n",
    "# Fit the model to the training data\n",
    "history_G2 = model.fit(X_train_G2, y_train_G2, epochs=100, verbose=1) # verbose controls how much gets output"
   ]
  },
  {
   "cell_type": "markdown",
   "id": "6bc34e03",
   "metadata": {},
   "source": [
    "### We check that there is a decreasing trend for the loss and mae function to ensure that the model is improving through the training of the model"
   ]
  },
  {
   "cell_type": "code",
   "execution_count": 62,
   "id": "a612f1ac",
   "metadata": {},
   "outputs": [
    {
     "data": {
      "image/png": "[encoded data removed]",
      "text/plain": [
       "<Figure size 432x288 with 1 Axes>"
      ]
     },
     "metadata": {},
     "output_type": "display_data"
    }
   ],
   "source": [
    "# Plot history (also known as a loss curve)\n",
    "pd.DataFrame(history_G2.history).plot()\n",
    "plt.ylabel(\"loss\")\n",
    "plt.xlabel(\"epochs\");"
   ]
  },
  {
   "cell_type": "code",
   "execution_count": 63,
   "id": "264aac40",
   "metadata": {
    "scrolled": false
   },
   "outputs": [
    {
     "name": "stdout",
     "output_type": "stream",
     "text": [
      "Model: \"sequential_7\"\n",
      "_________________________________________________________________\n",
      " Layer (type)                Output Shape              Param #   \n",
      "=================================================================\n",
      " dense_21 (Dense)            (None, 100)               200       \n",
      "                                                                 \n",
      " dense_22 (Dense)            (None, 10)                1010      \n",
      "                                                                 \n",
      " dense_23 (Dense)            (None, 1)                 11        \n",
      "                                                                 \n",
      "=================================================================\n",
      "Total params: 1,221\n",
      "Trainable params: 1,221\n",
      "Non-trainable params: 0\n",
      "_________________________________________________________________\n"
     ]
    }
   ],
   "source": [
    "model.summary()"
   ]
  },
  {
   "cell_type": "code",
   "execution_count": 64,
   "id": "44e1e1b1",
   "metadata": {},
   "outputs": [
    {
     "name": "stdout",
     "output_type": "stream",
     "text": [
      "5/5 [==============================] - 0s 980us/step\n"
     ]
    },
    {
     "data": {
      "text/plain": [
       "Text(0.5, 1.0, 'Linear Regression - G2 (Neural Network)')"
      ]
     },
     "execution_count": 64,
     "metadata": {},
     "output_type": "execute_result"
    },
    {
     "data": {
      "image/png": "[encoded data removed]",
      "text/plain": [
       "<Figure size 720x504 with 1 Axes>"
      ]
     },
     "metadata": {},
     "output_type": "display_data"
    }
   ],
   "source": [
    "y_test_predNN_G2 = model.predict(X_test_G2)\n",
    "\n",
    "plot_predictions(train_data=X_train_G2,\n",
    "                 train_labels=y_train_G2,\n",
    "                 test_data=X_test_G2,\n",
    "                 test_labels=y_test_G2,\n",
    "                 predictions=y_test_predNN_G2)\n",
    "plt.title(\"Linear Regression - G2 (Neural Network)\")"
   ]
  },
  {
   "cell_type": "code",
   "execution_count": 65,
   "id": "ab5ce99d",
   "metadata": {},
   "outputs": [
    {
     "name": "stdout",
     "output_type": "stream",
     "text": [
      "Mean Squared Error - MSE (Neural Network - Test) \t: 1.4348648\n",
      "Mean Absolute Error - MAE (Neural Network - Test) \t: 0.7928468\n"
     ]
    }
   ],
   "source": [
    "# Evaluate the model on the test set\n",
    "\n",
    "mae_G2 = mae(y_test_G2, y_test_predNN_G2.squeeze()).numpy()\n",
    "mse_G2 = mse(y_test_G2, y_test_predNN_G2.squeeze()).numpy()\n",
    "print(\"Mean Squared Error - MSE (Neural Network - Test) \\t:\", mse_G2)\n",
    "print(\"Mean Absolute Error - MAE (Neural Network - Test) \\t:\", mae_G2)"
   ]
  },
  {
   "cell_type": "markdown",
   "id": "d6efd247",
   "metadata": {},
   "source": [
    "    Mean Squared Error - MSE (Linear Regression - Test) \t: 1.9873237110193824"
   ]
  },
  {
   "cell_type": "markdown",
   "id": "b518164f",
   "metadata": {},
   "source": [
    "# Absences (K-Means Clustering Shortlisted Vairable)\n",
    "\n",
    "> Now, we do the Neural Network learning on Absences. "
   ]
  },
  {
   "cell_type": "code",
   "execution_count": 52,
   "id": "fec96a94",
   "metadata": {
    "scrolled": false
   },
   "outputs": [
    {
     "name": "stdout",
     "output_type": "stream",
     "text": [
      "Train Set : (519, 1) (519,)\n",
      "Test Set  : (130, 1) (130,)\n"
     ]
    }
   ],
   "source": [
    "y_absences = studentData['G3']\n",
    "X_absences= newStudentData[['absences']]\n",
    "\n",
    "X_train_absences, X_test_absences, y_train_absences, y_test_absences = train_test_split(X_absences, y_absences,test_size = 0.2)\n",
    "print(\"Train Set :\", X_train_absences.shape, y_train_absences.shape)\n",
    "print(\"Test Set  :\", X_test_absences.shape, y_test_absences.shape)"
   ]
  },
  {
   "cell_type": "code",
   "execution_count": 53,
   "id": "b50a3d39",
   "metadata": {},
   "outputs": [
    {
     "data": {
      "text/plain": [
       "Text(0.5, 1.0, 'Linear Regression - Absences (Neural Network)')"
      ]
     },
     "execution_count": 53,
     "metadata": {},
     "output_type": "execute_result"
    },
    {
     "data": {
      "image/png": "[encoded data removed]",
      "text/plain": [
       "<Figure size 720x504 with 1 Axes>"
      ]
     },
     "metadata": {},
     "output_type": "display_data"
    }
   ],
   "source": [
    "plt.figure(figsize=(10, 7))\n",
    "\n",
    "# Plot training data in blue\n",
    "plt.scatter(X_train_absences, y_train_absences, c='b', label='Training data')\n",
    "\n",
    "# Plot test data in green\n",
    "plt.scatter(X_test_absences, y_test_absences, c='g', label='Testing data')\n",
    "\n",
    "# Show the legend\n",
    "plt.legend();\n",
    "\n",
    "plt.title(\"Linear Regression - Absences (Neural Network)\")"
   ]
  },
  {
   "cell_type": "code",
   "execution_count": 54,
   "id": "6cc1ad1e",
   "metadata": {},
   "outputs": [
    {
     "name": "stdout",
     "output_type": "stream",
     "text": [
      "Epoch 1/100\n",
      "17/17 [==============================] - 0s 841us/step - loss: 9.1092 - mae: 9.1092\n",
      "Epoch 2/100\n",
      "17/17 [==============================] - 0s 969us/step - loss: 8.4697 - mae: 8.4697\n",
      "Epoch 3/100\n",
      "17/17 [==============================] - 0s 1ms/step - loss: 8.2497 - mae: 8.2497\n",
      "Epoch 4/100\n",
      "17/17 [==============================] - 0s 925us/step - loss: 7.9951 - mae: 7.9951\n",
      "Epoch 5/100\n",
      "17/17 [==============================] - 0s 916us/step - loss: 7.6989 - mae: 7.6989\n",
      "Epoch 6/100\n",
      "17/17 [==============================] - 0s 927us/step - loss: 7.3154 - mae: 7.3154\n",
      "Epoch 7/100\n",
      "17/17 [==============================] - 0s 927us/step - loss: 6.7918 - mae: 6.7918\n",
      "Epoch 8/100\n",
      "17/17 [==============================] - 0s 909us/step - loss: 6.0634 - mae: 6.0634\n",
      "Epoch 9/100\n",
      "17/17 [==============================] - 0s 924us/step - loss: 5.1607 - mae: 5.1607\n",
      "Epoch 10/100\n",
      "17/17 [==============================] - 0s 1ms/step - loss: 3.9500 - mae: 3.9500\n",
      "Epoch 11/100\n",
      "17/17 [==============================] - 0s 970us/step - loss: 2.8024 - mae: 2.8024\n",
      "Epoch 12/100\n",
      "17/17 [==============================] - 0s 1ms/step - loss: 2.3960 - mae: 2.3960\n",
      "Epoch 13/100\n",
      "17/17 [==============================] - 0s 949us/step - loss: 2.4117 - mae: 2.4117\n",
      "Epoch 14/100\n",
      "17/17 [==============================] - 0s 878us/step - loss: 2.3762 - mae: 2.3762\n",
      "Epoch 15/100\n",
      "17/17 [==============================] - 0s 948us/step - loss: 2.3776 - mae: 2.3776\n",
      "Epoch 16/100\n",
      "17/17 [==============================] - 0s 1ms/step - loss: 2.4532 - mae: 2.4532\n",
      "Epoch 17/100\n",
      "17/17 [==============================] - 0s 1ms/step - loss: 2.3702 - mae: 2.3702\n",
      "Epoch 18/100\n",
      "17/17 [==============================] - 0s 935us/step - loss: 2.4071 - mae: 2.4071\n",
      "Epoch 19/100\n",
      "17/17 [==============================] - 0s 901us/step - loss: 2.3905 - mae: 2.3905\n",
      "Epoch 20/100\n",
      "17/17 [==============================] - 0s 939us/step - loss: 2.3911 - mae: 2.3911\n",
      "Epoch 21/100\n",
      "17/17 [==============================] - 0s 962us/step - loss: 2.3862 - mae: 2.3862\n",
      "Epoch 22/100\n",
      "17/17 [==============================] - 0s 912us/step - loss: 2.3731 - mae: 2.3731\n",
      "Epoch 23/100\n",
      "17/17 [==============================] - 0s 1ms/step - loss: 2.4011 - mae: 2.4011\n",
      "Epoch 24/100\n",
      "17/17 [==============================] - 0s 1ms/step - loss: 2.4071 - mae: 2.4071\n",
      "Epoch 25/100\n",
      "17/17 [==============================] - 0s 2ms/step - loss: 2.3850 - mae: 2.3850\n",
      "Epoch 26/100\n",
      "17/17 [==============================] - 0s 1ms/step - loss: 2.3730 - mae: 2.3730\n",
      "Epoch 27/100\n",
      "17/17 [==============================] - 0s 2ms/step - loss: 2.3856 - mae: 2.3856\n",
      "Epoch 28/100\n",
      "17/17 [==============================] - 0s 1ms/step - loss: 2.3634 - mae: 2.3634\n",
      "Epoch 29/100\n",
      "17/17 [==============================] - 0s 2ms/step - loss: 2.3860 - mae: 2.3860\n",
      "Epoch 30/100\n",
      "17/17 [==============================] - 0s 1ms/step - loss: 2.3661 - mae: 2.3661\n",
      "Epoch 31/100\n",
      "17/17 [==============================] - 0s 2ms/step - loss: 2.4529 - mae: 2.4529\n",
      "Epoch 32/100\n",
      "17/17 [==============================] - 0s 1ms/step - loss: 2.3740 - mae: 2.3740\n",
      "Epoch 33/100\n",
      "17/17 [==============================] - 0s 895us/step - loss: 2.3664 - mae: 2.3664\n",
      "Epoch 34/100\n",
      "17/17 [==============================] - 0s 2ms/step - loss: 2.3752 - mae: 2.3752\n",
      "Epoch 35/100\n",
      "17/17 [==============================] - 0s 1ms/step - loss: 2.3821 - mae: 2.3821\n",
      "Epoch 36/100\n",
      "17/17 [==============================] - 0s 2ms/step - loss: 2.3864 - mae: 2.3864\n",
      "Epoch 37/100\n",
      "17/17 [==============================] - 0s 1ms/step - loss: 2.3947 - mae: 2.3947\n",
      "Epoch 38/100\n",
      "17/17 [==============================] - 0s 2ms/step - loss: 2.3698 - mae: 2.3698\n",
      "Epoch 39/100\n",
      "17/17 [==============================] - 0s 2ms/step - loss: 2.4058 - mae: 2.4058\n",
      "Epoch 40/100\n",
      "17/17 [==============================] - 0s 1ms/step - loss: 2.4028 - mae: 2.4028\n",
      "Epoch 41/100\n",
      "17/17 [==============================] - 0s 1ms/step - loss: 2.3708 - mae: 2.3708\n",
      "Epoch 42/100\n",
      "17/17 [==============================] - 0s 1ms/step - loss: 2.3600 - mae: 2.3600\n",
      "Epoch 43/100\n",
      "17/17 [==============================] - 0s 2ms/step - loss: 2.4402 - mae: 2.4402\n",
      "Epoch 44/100\n",
      "17/17 [==============================] - 0s 1ms/step - loss: 2.5688 - mae: 2.5688\n",
      "Epoch 45/100\n",
      "17/17 [==============================] - 0s 795us/step - loss: 2.3948 - mae: 2.3948\n",
      "Epoch 46/100\n",
      "17/17 [==============================] - 0s 924us/step - loss: 2.3622 - mae: 2.3622\n",
      "Epoch 47/100\n",
      "17/17 [==============================] - 0s 808us/step - loss: 2.3869 - mae: 2.3869\n",
      "Epoch 48/100\n",
      "17/17 [==============================] - 0s 965us/step - loss: 2.3647 - mae: 2.3647\n",
      "Epoch 49/100\n",
      "17/17 [==============================] - 0s 1ms/step - loss: 2.4189 - mae: 2.4189\n",
      "Epoch 50/100\n",
      "17/17 [==============================] - 0s 2ms/step - loss: 2.3965 - mae: 2.3965\n",
      "Epoch 51/100\n",
      "17/17 [==============================] - 0s 1ms/step - loss: 2.3965 - mae: 2.3965\n",
      "Epoch 52/100\n",
      "17/17 [==============================] - 0s 838us/step - loss: 2.3902 - mae: 2.3902\n",
      "Epoch 53/100\n",
      "17/17 [==============================] - 0s 1ms/step - loss: 2.4221 - mae: 2.4221\n",
      "Epoch 54/100\n",
      "17/17 [==============================] - 0s 736us/step - loss: 2.3726 - mae: 2.3726\n",
      "Epoch 55/100\n",
      "17/17 [==============================] - 0s 1ms/step - loss: 2.4106 - mae: 2.4106\n",
      "Epoch 56/100\n",
      "17/17 [==============================] - 0s 936us/step - loss: 2.3787 - mae: 2.3787\n",
      "Epoch 57/100\n",
      "17/17 [==============================] - 0s 858us/step - loss: 2.3778 - mae: 2.3778\n",
      "Epoch 58/100\n",
      "17/17 [==============================] - 0s 781us/step - loss: 2.3779 - mae: 2.3779\n",
      "Epoch 59/100\n",
      "17/17 [==============================] - 0s 746us/step - loss: 2.3906 - mae: 2.3906\n",
      "Epoch 60/100\n",
      "17/17 [==============================] - 0s 823us/step - loss: 2.3646 - mae: 2.3646\n",
      "Epoch 61/100\n",
      "17/17 [==============================] - 0s 804us/step - loss: 2.3787 - mae: 2.3787\n",
      "Epoch 62/100\n",
      "17/17 [==============================] - 0s 780us/step - loss: 2.4185 - mae: 2.4185\n",
      "Epoch 63/100\n",
      "17/17 [==============================] - 0s 928us/step - loss: 2.4148 - mae: 2.4148\n",
      "Epoch 64/100\n",
      "17/17 [==============================] - 0s 827us/step - loss: 2.3873 - mae: 2.3873\n",
      "Epoch 65/100\n",
      "17/17 [==============================] - 0s 824us/step - loss: 2.3670 - mae: 2.3670\n",
      "Epoch 66/100\n",
      "17/17 [==============================] - 0s 767us/step - loss: 2.3880 - mae: 2.3880\n",
      "Epoch 67/100\n",
      "17/17 [==============================] - 0s 775us/step - loss: 2.3632 - mae: 2.3632\n",
      "Epoch 68/100\n",
      "17/17 [==============================] - 0s 826us/step - loss: 2.4144 - mae: 2.4144\n",
      "Epoch 69/100\n",
      "17/17 [==============================] - 0s 823us/step - loss: 2.3644 - mae: 2.3644\n",
      "Epoch 70/100\n",
      "17/17 [==============================] - 0s 925us/step - loss: 2.3660 - mae: 2.3660\n",
      "Epoch 71/100\n",
      "17/17 [==============================] - 0s 803us/step - loss: 2.3716 - mae: 2.3716\n",
      "Epoch 72/100\n",
      "17/17 [==============================] - 0s 734us/step - loss: 2.3664 - mae: 2.3664\n",
      "Epoch 73/100\n",
      "17/17 [==============================] - 0s 820us/step - loss: 2.3713 - mae: 2.3713\n",
      "Epoch 74/100\n",
      "17/17 [==============================] - 0s 761us/step - loss: 2.3998 - mae: 2.3998\n",
      "Epoch 75/100\n",
      "17/17 [==============================] - 0s 790us/step - loss: 2.3795 - mae: 2.3795\n",
      "Epoch 76/100\n",
      "17/17 [==============================] - 0s 809us/step - loss: 2.4079 - mae: 2.4079\n",
      "Epoch 77/100\n",
      "17/17 [==============================] - 0s 795us/step - loss: 2.3925 - mae: 2.3925\n",
      "Epoch 78/100\n",
      "17/17 [==============================] - 0s 1ms/step - loss: 2.3761 - mae: 2.3761\n",
      "Epoch 79/100\n",
      "17/17 [==============================] - 0s 799us/step - loss: 2.3809 - mae: 2.3809\n",
      "Epoch 80/100\n",
      "17/17 [==============================] - 0s 804us/step - loss: 2.4158 - mae: 2.4158\n",
      "Epoch 81/100\n",
      "17/17 [==============================] - 0s 816us/step - loss: 2.3766 - mae: 2.3766\n",
      "Epoch 82/100\n",
      "17/17 [==============================] - 0s 746us/step - loss: 2.4149 - mae: 2.4149\n",
      "Epoch 83/100\n",
      "17/17 [==============================] - 0s 774us/step - loss: 2.3704 - mae: 2.3704\n",
      "Epoch 84/100\n",
      "17/17 [==============================] - 0s 767us/step - loss: 2.4046 - mae: 2.4046\n",
      "Epoch 85/100\n",
      "17/17 [==============================] - 0s 771us/step - loss: 2.4574 - mae: 2.4574\n",
      "Epoch 86/100\n"
     ]
    },
    {
     "name": "stdout",
     "output_type": "stream",
     "text": [
      "17/17 [==============================] - 0s 907us/step - loss: 2.4185 - mae: 2.4185\n",
      "Epoch 87/100\n",
      "17/17 [==============================] - 0s 786us/step - loss: 2.3793 - mae: 2.3793\n",
      "Epoch 88/100\n",
      "17/17 [==============================] - 0s 820us/step - loss: 2.3708 - mae: 2.3708\n",
      "Epoch 89/100\n",
      "17/17 [==============================] - 0s 773us/step - loss: 2.3704 - mae: 2.3704\n",
      "Epoch 90/100\n",
      "17/17 [==============================] - 0s 781us/step - loss: 2.3912 - mae: 2.3912\n",
      "Epoch 91/100\n",
      "17/17 [==============================] - 0s 791us/step - loss: 2.3759 - mae: 2.3759\n",
      "Epoch 92/100\n",
      "17/17 [==============================] - 0s 709us/step - loss: 2.3780 - mae: 2.3780\n",
      "Epoch 93/100\n",
      "17/17 [==============================] - 0s 734us/step - loss: 2.3725 - mae: 2.3725\n",
      "Epoch 94/100\n",
      "17/17 [==============================] - 0s 862us/step - loss: 2.3641 - mae: 2.3641\n",
      "Epoch 95/100\n",
      "17/17 [==============================] - 0s 751us/step - loss: 2.3657 - mae: 2.3657\n",
      "Epoch 96/100\n",
      "17/17 [==============================] - 0s 810us/step - loss: 2.3648 - mae: 2.3648\n",
      "Epoch 97/100\n",
      "17/17 [==============================] - 0s 760us/step - loss: 2.3766 - mae: 2.3766\n",
      "Epoch 98/100\n",
      "17/17 [==============================] - 0s 733us/step - loss: 2.3650 - mae: 2.3650\n",
      "Epoch 99/100\n",
      "17/17 [==============================] - 0s 747us/step - loss: 2.4179 - mae: 2.4179\n",
      "Epoch 100/100\n",
      "17/17 [==============================] - 0s 715us/step - loss: 2.4134 - mae: 2.4134\n"
     ]
    }
   ],
   "source": [
    "tf.random.set_seed(42)\n",
    "\n",
    "# Create a model\n",
    "model = tf.keras.Sequential([\n",
    "  tf.keras.layers.Dense(100), # 100 units\n",
    "  tf.keras.layers.Dense(10), # 10 units\n",
    "  tf.keras.layers.Dense(1) # 1 unit (important for output layer)\n",
    "])\n",
    "\n",
    "# Compile model\n",
    "model.compile(loss=tf.keras.losses.mae,\n",
    "              optimizer=tf.keras.optimizers.Adam(),\n",
    "              metrics=[\"mae\"])\n",
    "\n",
    "# Fit the model to the training data\n",
    "history_absences = model.fit(X_train_absences, y_train_absences, epochs=100, verbose=1) # verbose controls how much gets output"
   ]
  },
  {
   "cell_type": "markdown",
   "id": "fe917b78",
   "metadata": {},
   "source": [
    "### We check that there is a decreasing trend for the loss and mae function to ensure that the model is improving through the training of the model"
   ]
  },
  {
   "cell_type": "code",
   "execution_count": 55,
   "id": "21e9d5ff",
   "metadata": {},
   "outputs": [
    {
     "data": {
      "image/png": "[encoded data removed]",
      "text/plain": [
       "<Figure size 432x288 with 1 Axes>"
      ]
     },
     "metadata": {},
     "output_type": "display_data"
    }
   ],
   "source": [
    "# Plot history (also known as a loss curve)\n",
    "pd.DataFrame(history_absences.history).plot()\n",
    "plt.ylabel(\"loss\")\n",
    "plt.xlabel(\"epochs\");"
   ]
  },
  {
   "cell_type": "code",
   "execution_count": 56,
   "id": "40b3a1f7",
   "metadata": {
    "scrolled": true
   },
   "outputs": [
    {
     "name": "stdout",
     "output_type": "stream",
     "text": [
      "Model: \"sequential_6\"\n",
      "_________________________________________________________________\n",
      " Layer (type)                Output Shape              Param #   \n",
      "=================================================================\n",
      " dense_18 (Dense)            (None, 100)               200       \n",
      "                                                                 \n",
      " dense_19 (Dense)            (None, 10)                1010      \n",
      "                                                                 \n",
      " dense_20 (Dense)            (None, 1)                 11        \n",
      "                                                                 \n",
      "=================================================================\n",
      "Total params: 1,221\n",
      "Trainable params: 1,221\n",
      "Non-trainable params: 0\n",
      "_________________________________________________________________\n"
     ]
    }
   ],
   "source": [
    "model.summary()"
   ]
  },
  {
   "cell_type": "code",
   "execution_count": 57,
   "id": "73b498b2",
   "metadata": {},
   "outputs": [
    {
     "name": "stdout",
     "output_type": "stream",
     "text": [
      "5/5 [==============================] - 0s 734us/step\n"
     ]
    },
    {
     "data": {
      "text/plain": [
       "Text(0.5, 1.0, 'Linear Regression - Absences (Neural Network)')"
      ]
     },
     "execution_count": 57,
     "metadata": {},
     "output_type": "execute_result"
    },
    {
     "data": {
      "image/png": "[encoded data removed]",
      "text/plain": [
       "<Figure size 720x504 with 1 Axes>"
      ]
     },
     "metadata": {},
     "output_type": "display_data"
    }
   ],
   "source": [
    "y_test_predNN_absences = model.predict(X_test_absences)\n",
    "\n",
    "plot_predictions(train_data=X_train_absences,\n",
    "                 train_labels=y_train_absences,\n",
    "                 test_data=X_test_absences,\n",
    "                 test_labels=y_test_absences,\n",
    "                 predictions=y_test_predNN_absences)\n",
    "plt.title(\"Linear Regression - Absences (Neural Network)\")"
   ]
  },
  {
   "cell_type": "code",
   "execution_count": 58,
   "id": "39fee71a",
   "metadata": {},
   "outputs": [
    {
     "name": "stdout",
     "output_type": "stream",
     "text": [
      "Mean Squared Error - MSE (Neural Network - Test) \t: 10.295562\n",
      "Mean Absolute Error - MAE (Neural Network - Test) \t: 2.350686\n"
     ]
    }
   ],
   "source": [
    "# Evaluate the model on the test set\n",
    "\n",
    "mae_absences = mae(y_test_absences, y_test_predNN_absences.squeeze()).numpy()\n",
    "mse_absences = mse(y_test_absences, y_test_predNN_absences.squeeze()).numpy()\n",
    "print(\"Mean Squared Error - MSE (Neural Network - Test) \\t:\", mse_absences)\n",
    "print(\"Mean Absolute Error - MAE (Neural Network - Test) \\t:\", mae_absences)"
   ]
  },
  {
   "cell_type": "markdown",
   "id": "cd558c3d",
   "metadata": {},
   "source": [
    "    Mean Squared Error - MSE (Linear Regression - Test): 11.286516530937327"
   ]
  },
  {
   "cell_type": "markdown",
   "id": "21ba9c72",
   "metadata": {},
   "source": [
    "# AGE (K-Means Clustering Shortlisted Variable)\n",
    "\n",
    "> Now, we do the Neural Network learning on Absences. "
   ]
  },
  {
   "cell_type": "code",
   "execution_count": 29,
   "id": "b86ce082",
   "metadata": {
    "scrolled": false
   },
   "outputs": [
    {
     "name": "stdout",
     "output_type": "stream",
     "text": [
      "Train Set : (519, 1) (519,)\n",
      "Test Set  : (130, 1) (130,)\n"
     ]
    }
   ],
   "source": [
    "y_age = studentData['G3']\n",
    "X_age = newStudentData[['age']]\n",
    "\n",
    "X_train_age, X_test_age, y_train_age, y_test_age = train_test_split(X_age, y_age,test_size = 0.2)\n",
    "print(\"Train Set :\", X_train_age.shape, y_train_age.shape)\n",
    "print(\"Test Set  :\", X_test_age.shape, y_test_age.shape)"
   ]
  },
  {
   "cell_type": "code",
   "execution_count": 30,
   "id": "1ef105c5",
   "metadata": {},
   "outputs": [
    {
     "data": {
      "text/plain": [
       "Text(0.5, 1.0, 'Linear Regression - Age (Neural Network)')"
      ]
     },
     "execution_count": 30,
     "metadata": {},
     "output_type": "execute_result"
    },
    {
     "data": {
      "image/png": "[encoded data removed]",
      "text/plain": [
       "<Figure size 720x504 with 1 Axes>"
      ]
     },
     "metadata": {},
     "output_type": "display_data"
    }
   ],
   "source": [
    "plt.figure(figsize=(10, 7))\n",
    "\n",
    "# Plot training data in blue\n",
    "plt.scatter(X_train_age, y_train_age, c='b', label='Training data')\n",
    "\n",
    "# Plot test data in green\n",
    "plt.scatter(X_test_age, y_test_age, c='g', label='Testing data')\n",
    "\n",
    "# Show the legend\n",
    "plt.legend();\n",
    "\n",
    "plt.title(\"Linear Regression - Age (Neural Network)\")"
   ]
  },
  {
   "cell_type": "code",
   "execution_count": 31,
   "id": "0443ad29",
   "metadata": {},
   "outputs": [
    {
     "name": "stdout",
     "output_type": "stream",
     "text": [
      "Epoch 1/100\n",
      "17/17 [==============================] - 0s 833us/step - loss: 3.0017 - mae: 3.0017\n",
      "Epoch 2/100\n",
      "17/17 [==============================] - 0s 1ms/step - loss: 2.6877 - mae: 2.6877\n",
      "Epoch 3/100\n",
      "17/17 [==============================] - 0s 1ms/step - loss: 2.7131 - mae: 2.7131\n",
      "Epoch 4/100\n",
      "17/17 [==============================] - 0s 1ms/step - loss: 2.6913 - mae: 2.6913\n",
      "Epoch 5/100\n",
      "17/17 [==============================] - 0s 849us/step - loss: 2.6733 - mae: 2.6733\n",
      "Epoch 6/100\n",
      "17/17 [==============================] - 0s 948us/step - loss: 2.6805 - mae: 2.6805\n",
      "Epoch 7/100\n",
      "17/17 [==============================] - 0s 837us/step - loss: 2.6841 - mae: 2.6841\n",
      "Epoch 8/100\n",
      "17/17 [==============================] - 0s 724us/step - loss: 2.6849 - mae: 2.6849\n",
      "Epoch 9/100\n",
      "17/17 [==============================] - 0s 728us/step - loss: 2.6675 - mae: 2.6675\n",
      "Epoch 10/100\n",
      "17/17 [==============================] - 0s 776us/step - loss: 2.6644 - mae: 2.6644\n",
      "Epoch 11/100\n",
      "17/17 [==============================] - 0s 784us/step - loss: 2.7230 - mae: 2.7230\n",
      "Epoch 12/100\n",
      "17/17 [==============================] - 0s 742us/step - loss: 2.6761 - mae: 2.6761\n",
      "Epoch 13/100\n",
      "17/17 [==============================] - 0s 768us/step - loss: 2.6704 - mae: 2.6704\n",
      "Epoch 14/100\n",
      "17/17 [==============================] - 0s 986us/step - loss: 2.6725 - mae: 2.6725\n",
      "Epoch 15/100\n",
      "17/17 [==============================] - 0s 776us/step - loss: 2.6511 - mae: 2.6511\n",
      "Epoch 16/100\n",
      "17/17 [==============================] - 0s 773us/step - loss: 2.6993 - mae: 2.6993\n",
      "Epoch 17/100\n",
      "17/17 [==============================] - 0s 738us/step - loss: 2.6691 - mae: 2.6691\n",
      "Epoch 18/100\n",
      "17/17 [==============================] - 0s 701us/step - loss: 2.7138 - mae: 2.7138\n",
      "Epoch 19/100\n",
      "17/17 [==============================] - 0s 695us/step - loss: 2.6662 - mae: 2.6662\n",
      "Epoch 20/100\n",
      "17/17 [==============================] - 0s 796us/step - loss: 2.6627 - mae: 2.6627\n",
      "Epoch 21/100\n",
      "17/17 [==============================] - 0s 810us/step - loss: 2.6566 - mae: 2.6566\n",
      "Epoch 22/100\n",
      "17/17 [==============================] - 0s 840us/step - loss: 2.6508 - mae: 2.6508\n",
      "Epoch 23/100\n",
      "17/17 [==============================] - 0s 822us/step - loss: 2.6425 - mae: 2.6425\n",
      "Epoch 24/100\n",
      "17/17 [==============================] - 0s 781us/step - loss: 2.6513 - mae: 2.6513\n",
      "Epoch 25/100\n",
      "17/17 [==============================] - 0s 776us/step - loss: 2.6792 - mae: 2.6792\n",
      "Epoch 26/100\n",
      "17/17 [==============================] - 0s 861us/step - loss: 2.6424 - mae: 2.6424\n",
      "Epoch 27/100\n",
      "17/17 [==============================] - 0s 763us/step - loss: 2.6526 - mae: 2.6526\n",
      "Epoch 28/100\n",
      "17/17 [==============================] - 0s 713us/step - loss: 2.6499 - mae: 2.6499\n",
      "Epoch 29/100\n",
      "17/17 [==============================] - 0s 735us/step - loss: 2.6423 - mae: 2.6423\n",
      "Epoch 30/100\n",
      "17/17 [==============================] - 0s 812us/step - loss: 2.6419 - mae: 2.6419\n",
      "Epoch 31/100\n",
      "17/17 [==============================] - 0s 704us/step - loss: 2.6469 - mae: 2.6469\n",
      "Epoch 32/100\n",
      "17/17 [==============================] - 0s 785us/step - loss: 2.6710 - mae: 2.6710\n",
      "Epoch 33/100\n",
      "17/17 [==============================] - 0s 832us/step - loss: 2.7009 - mae: 2.7009\n",
      "Epoch 34/100\n",
      "17/17 [==============================] - 0s 785us/step - loss: 2.6633 - mae: 2.6633\n",
      "Epoch 35/100\n",
      "17/17 [==============================] - 0s 761us/step - loss: 2.7036 - mae: 2.7036\n",
      "Epoch 36/100\n",
      "17/17 [==============================] - 0s 757us/step - loss: 2.6732 - mae: 2.6732\n",
      "Epoch 37/100\n",
      "17/17 [==============================] - 0s 811us/step - loss: 2.6460 - mae: 2.6460\n",
      "Epoch 38/100\n",
      "17/17 [==============================] - 0s 813us/step - loss: 2.6404 - mae: 2.6404\n",
      "Epoch 39/100\n",
      "17/17 [==============================] - 0s 769us/step - loss: 2.6505 - mae: 2.6505\n",
      "Epoch 40/100\n",
      "17/17 [==============================] - 0s 753us/step - loss: 2.6410 - mae: 2.6410\n",
      "Epoch 41/100\n",
      "17/17 [==============================] - 0s 743us/step - loss: 2.6821 - mae: 2.6821\n",
      "Epoch 42/100\n",
      "17/17 [==============================] - 0s 799us/step - loss: 2.6426 - mae: 2.6426\n",
      "Epoch 43/100\n",
      "17/17 [==============================] - 0s 880us/step - loss: 2.6427 - mae: 2.6427\n",
      "Epoch 44/100\n",
      "17/17 [==============================] - 0s 784us/step - loss: 2.6335 - mae: 2.6335\n",
      "Epoch 45/100\n",
      "17/17 [==============================] - 0s 997us/step - loss: 2.6430 - mae: 2.6430\n",
      "Epoch 46/100\n",
      "17/17 [==============================] - 0s 840us/step - loss: 2.6400 - mae: 2.6400\n",
      "Epoch 47/100\n",
      "17/17 [==============================] - 0s 815us/step - loss: 2.6404 - mae: 2.6404\n",
      "Epoch 48/100\n",
      "17/17 [==============================] - 0s 754us/step - loss: 2.6473 - mae: 2.6473\n",
      "Epoch 49/100\n",
      "17/17 [==============================] - 0s 802us/step - loss: 2.6506 - mae: 2.6506\n",
      "Epoch 50/100\n",
      "17/17 [==============================] - 0s 807us/step - loss: 2.6506 - mae: 2.6506\n",
      "Epoch 51/100\n",
      "17/17 [==============================] - 0s 758us/step - loss: 2.6521 - mae: 2.6521\n",
      "Epoch 52/100\n",
      "17/17 [==============================] - 0s 797us/step - loss: 2.6835 - mae: 2.6835\n",
      "Epoch 53/100\n",
      "17/17 [==============================] - 0s 990us/step - loss: 2.6472 - mae: 2.6472\n",
      "Epoch 54/100\n",
      "17/17 [==============================] - 0s 738us/step - loss: 2.6723 - mae: 2.6723\n",
      "Epoch 55/100\n",
      "17/17 [==============================] - 0s 710us/step - loss: 2.6503 - mae: 2.6503\n",
      "Epoch 56/100\n",
      "17/17 [==============================] - 0s 785us/step - loss: 2.6267 - mae: 2.6267\n",
      "Epoch 57/100\n",
      "17/17 [==============================] - 0s 752us/step - loss: 2.6274 - mae: 2.6274\n",
      "Epoch 58/100\n",
      "17/17 [==============================] - 0s 730us/step - loss: 2.6572 - mae: 2.6572\n",
      "Epoch 59/100\n",
      "17/17 [==============================] - 0s 754us/step - loss: 2.6995 - mae: 2.6995\n",
      "Epoch 60/100\n",
      "17/17 [==============================] - 0s 725us/step - loss: 2.6386 - mae: 2.6386\n",
      "Epoch 61/100\n",
      "17/17 [==============================] - 0s 917us/step - loss: 2.6577 - mae: 2.6577\n",
      "Epoch 62/100\n",
      "17/17 [==============================] - 0s 750us/step - loss: 2.6735 - mae: 2.6735\n",
      "Epoch 63/100\n",
      "17/17 [==============================] - 0s 787us/step - loss: 2.6284 - mae: 2.6284\n",
      "Epoch 64/100\n",
      "17/17 [==============================] - 0s 709us/step - loss: 2.6992 - mae: 2.6992\n",
      "Epoch 65/100\n",
      "17/17 [==============================] - 0s 797us/step - loss: 2.7153 - mae: 2.7153\n",
      "Epoch 66/100\n",
      "17/17 [==============================] - 0s 726us/step - loss: 2.6583 - mae: 2.6583\n",
      "Epoch 67/100\n",
      "17/17 [==============================] - 0s 757us/step - loss: 2.6174 - mae: 2.6174\n",
      "Epoch 68/100\n",
      "17/17 [==============================] - 0s 713us/step - loss: 2.6170 - mae: 2.6170\n",
      "Epoch 69/100\n",
      "17/17 [==============================] - 0s 946us/step - loss: 2.6364 - mae: 2.6364\n",
      "Epoch 70/100\n",
      "17/17 [==============================] - 0s 725us/step - loss: 2.6289 - mae: 2.6289\n",
      "Epoch 71/100\n",
      "17/17 [==============================] - 0s 751us/step - loss: 2.6150 - mae: 2.6150\n",
      "Epoch 72/100\n",
      "17/17 [==============================] - 0s 715us/step - loss: 2.6577 - mae: 2.6577\n",
      "Epoch 73/100\n",
      "17/17 [==============================] - 0s 752us/step - loss: 2.6466 - mae: 2.6466\n",
      "Epoch 74/100\n",
      "17/17 [==============================] - 0s 759us/step - loss: 2.6208 - mae: 2.6208\n",
      "Epoch 75/100\n",
      "17/17 [==============================] - 0s 854us/step - loss: 2.6179 - mae: 2.6179\n",
      "Epoch 76/100\n",
      "17/17 [==============================] - 0s 805us/step - loss: 2.6343 - mae: 2.6343\n",
      "Epoch 77/100\n",
      "17/17 [==============================] - 0s 993us/step - loss: 2.6226 - mae: 2.6226\n",
      "Epoch 78/100\n",
      "17/17 [==============================] - 0s 1ms/step - loss: 2.6354 - mae: 2.6354\n",
      "Epoch 79/100\n",
      "17/17 [==============================] - 0s 942us/step - loss: 2.6460 - mae: 2.6460\n",
      "Epoch 80/100\n",
      "17/17 [==============================] - 0s 758us/step - loss: 2.6394 - mae: 2.6394\n",
      "Epoch 81/100\n",
      "17/17 [==============================] - 0s 721us/step - loss: 2.6538 - mae: 2.6538\n",
      "Epoch 82/100\n",
      "17/17 [==============================] - 0s 779us/step - loss: 2.6556 - mae: 2.6556\n",
      "Epoch 83/100\n",
      "17/17 [==============================] - 0s 770us/step - loss: 2.6152 - mae: 2.6152\n",
      "Epoch 84/100\n",
      "17/17 [==============================] - 0s 880us/step - loss: 2.7314 - mae: 2.7314\n",
      "Epoch 85/100\n"
     ]
    },
    {
     "name": "stdout",
     "output_type": "stream",
     "text": [
      "17/17 [==============================] - 0s 757us/step - loss: 2.6008 - mae: 2.6008\n",
      "Epoch 86/100\n",
      "17/17 [==============================] - 0s 5ms/step - loss: 2.6402 - mae: 2.6402\n",
      "Epoch 87/100\n",
      "17/17 [==============================] - 0s 2ms/step - loss: 2.6198 - mae: 2.6198\n",
      "Epoch 88/100\n",
      "17/17 [==============================] - 0s 1ms/step - loss: 2.6438 - mae: 2.6438\n",
      "Epoch 89/100\n",
      "17/17 [==============================] - 0s 1ms/step - loss: 2.6161 - mae: 2.6161\n",
      "Epoch 90/100\n",
      "17/17 [==============================] - 0s 1ms/step - loss: 2.6169 - mae: 2.6169\n",
      "Epoch 91/100\n",
      "17/17 [==============================] - 0s 1ms/step - loss: 2.6080 - mae: 2.6080\n",
      "Epoch 92/100\n",
      "17/17 [==============================] - 0s 1ms/step - loss: 2.6391 - mae: 2.6391\n",
      "Epoch 93/100\n",
      "17/17 [==============================] - 0s 1ms/step - loss: 2.6689 - mae: 2.6689\n",
      "Epoch 94/100\n",
      "17/17 [==============================] - 0s 1ms/step - loss: 2.6546 - mae: 2.6546\n",
      "Epoch 95/100\n",
      "17/17 [==============================] - 0s 1ms/step - loss: 2.6603 - mae: 2.6603\n",
      "Epoch 96/100\n",
      "17/17 [==============================] - 0s 1ms/step - loss: 2.6486 - mae: 2.6486\n",
      "Epoch 97/100\n",
      "17/17 [==============================] - 0s 1ms/step - loss: 2.6297 - mae: 2.6297\n",
      "Epoch 98/100\n",
      "17/17 [==============================] - 0s 1ms/step - loss: 2.6096 - mae: 2.6096\n",
      "Epoch 99/100\n",
      "17/17 [==============================] - 0s 1ms/step - loss: 2.6406 - mae: 2.6406\n",
      "Epoch 100/100\n",
      "17/17 [==============================] - 0s 1ms/step - loss: 2.6209 - mae: 2.6209\n"
     ]
    }
   ],
   "source": [
    "tf.random.set_seed(42)\n",
    "\n",
    "\n",
    "# Create a model\n",
    "model = tf.keras.Sequential([\n",
    "  tf.keras.layers.Dense(100), # 100 units\n",
    "  tf.keras.layers.Dense(10), # 10 units\n",
    "  tf.keras.layers.Dense(1) # 1 unit (important for output layer)\n",
    "])\n",
    "\n",
    "# Compile model\n",
    "model.compile(loss=tf.keras.losses.mae,\n",
    "              optimizer=tf.keras.optimizers.Adam(),\n",
    "              metrics=[\"mae\"])\n",
    "\n",
    "# Fit the model to the training data\n",
    "history_age = model.fit(X_train_age, y_train_age, epochs=100, verbose=1) # verbose controls how much gets output"
   ]
  },
  {
   "cell_type": "markdown",
   "id": "79f8ced2",
   "metadata": {},
   "source": [
    "### We check that there is a decreasing trend for the loss and mae function to ensure that the model is improving through the training of the model"
   ]
  },
  {
   "cell_type": "code",
   "execution_count": 32,
   "id": "030d17f5",
   "metadata": {},
   "outputs": [
    {
     "data": {
      "image/png": "[encoded data removed]",
      "text/plain": [
       "<Figure size 432x288 with 1 Axes>"
      ]
     },
     "metadata": {},
     "output_type": "display_data"
    }
   ],
   "source": [
    "# Plot history (also known as a loss curve)\n",
    "pd.DataFrame(history_age.history).plot()\n",
    "plt.ylabel(\"loss\")\n",
    "plt.xlabel(\"epochs\");"
   ]
  },
  {
   "cell_type": "code",
   "execution_count": 33,
   "id": "4cf3ff43",
   "metadata": {
    "scrolled": true
   },
   "outputs": [
    {
     "name": "stdout",
     "output_type": "stream",
     "text": [
      "Model: \"sequential_3\"\n",
      "_________________________________________________________________\n",
      " Layer (type)                Output Shape              Param #   \n",
      "=================================================================\n",
      " dense_9 (Dense)             (None, 100)               200       \n",
      "                                                                 \n",
      " dense_10 (Dense)            (None, 10)                1010      \n",
      "                                                                 \n",
      " dense_11 (Dense)            (None, 1)                 11        \n",
      "                                                                 \n",
      "=================================================================\n",
      "Total params: 1,221\n",
      "Trainable params: 1,221\n",
      "Non-trainable params: 0\n",
      "_________________________________________________________________\n"
     ]
    }
   ],
   "source": [
    "model.summary()"
   ]
  },
  {
   "cell_type": "code",
   "execution_count": 34,
   "id": "db2882d4",
   "metadata": {},
   "outputs": [
    {
     "name": "stdout",
     "output_type": "stream",
     "text": [
      "5/5 [==============================] - 0s 753us/step\n"
     ]
    },
    {
     "data": {
      "text/plain": [
       "Text(0.5, 1.0, 'Linear Regression - Age (Neural Network)')"
      ]
     },
     "execution_count": 34,
     "metadata": {},
     "output_type": "execute_result"
    },
    {
     "data": {
      "image/png": "[encoded data removed]",
      "text/plain": [
       "<Figure size 720x504 with 1 Axes>"
      ]
     },
     "metadata": {},
     "output_type": "display_data"
    }
   ],
   "source": [
    "y_test_predNN_age = model.predict(X_test_age)\n",
    "\n",
    "plot_predictions(train_data=X_train_age,\n",
    "                 train_labels=y_train_age,\n",
    "                 test_data=X_test_age,\n",
    "                 test_labels=y_test_age,\n",
    "                 predictions=y_test_predNN_age)\n",
    "\n",
    "plt.title(\"Linear Regression - Age (Neural Network)\")"
   ]
  },
  {
   "cell_type": "code",
   "execution_count": 35,
   "id": "8a74e9ce",
   "metadata": {
    "scrolled": true
   },
   "outputs": [
    {
     "name": "stdout",
     "output_type": "stream",
     "text": [
      "Mean Squared Error - MSE (Neural Network - Test) \t: 8.50226\n",
      "Mean Absolute Error - MAE (Neural Network - Test) \t: 2.2391493\n"
     ]
    }
   ],
   "source": [
    "# Evaluate the model on the test set\n",
    "\n",
    "mae_age = mae(y_test_age, y_test_predNN_age.squeeze()).numpy()\n",
    "mse_age = mse(y_test_age, y_test_predNN_age.squeeze()).numpy()\n",
    "print(\"Mean Squared Error - MSE (Neural Network - Test) \\t:\", mse_age)\n",
    "print(\"Mean Absolute Error - MAE (Neural Network - Test) \\t:\", mae_age)"
   ]
  },
  {
   "cell_type": "markdown",
   "id": "057feddf",
   "metadata": {},
   "source": [
    "    Mean Squared Error - MSE (Linear Regression - Test): 9.167635776700525"
   ]
  },
  {
   "cell_type": "markdown",
   "id": "c61072ec",
   "metadata": {},
   "source": [
    "# Conclusion:\n",
    "\n",
    "By looking at the MAE and MSE of each variable, G2 would be the best variable, followed by G1, age then absences, which is similar to the results from the single-variate linear regression model. \n",
    "\n",
    "In general, there is also an improvement to the MSE value from the neural network as compared to the linear regression model values. The percentage improvement are as follows:\n",
    "\n",
    "* G1: 17.69%\n",
    "\n",
    "* G2: 27.80%\n",
    "\n",
    "* Age: 7.26% \n",
    "\n",
    "* Absences: 8.78%\n",
    "\n",
    "### K-Means clustering variables evaluation:\n",
    "\n",
    "* Comparing the shortlisted variables from K-means clustering (age & absences) to the other numerical variables, G1 & G2, it can be seen that the variables are not as important to predict G3 as compared to the other numerical variables. \n",
    "\n",
    "* However, the order of importance from K-means clustering for the shortlisted variables is the same as the results from the Neural Network model, with Age being more important than Absences in predicting G3."
   ]
  }
 ],
 "metadata": {
  "kernelspec": {
   "display_name": "Python 3 (ipykernel)",
   "language": "python",
   "name": "python3"
  },
  "language_info": {
   "codemirror_mode": {
    "name": "ipython",
    "version": 3
   },
   "file_extension": ".py",
   "mimetype": "text/x-python",
   "name": "python",
   "nbconvert_exporter": "python",
   "pygments_lexer": "ipython3",
   "version": "3.9.12"
  }
 },
 "nbformat": 4,
 "nbformat_minor": 5
}
