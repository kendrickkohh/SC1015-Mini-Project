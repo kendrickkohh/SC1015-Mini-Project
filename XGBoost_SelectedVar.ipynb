{
 "cells": [
  {
   "cell_type": "markdown",
   "id": "fc069d8b",
   "metadata": {},
   "source": [
    "## Notes\n",
    "\n",
    "When building XGBoost trees, we calculate the similarity scores and gain to determine how to split the data, we then prune the tree by calculating the differences between Gain values and a user definied tree complexity parameter, gamma. If gain - gamma = -ve, we prune, otherwise no change.\n",
    "\n",
    "Note: Lamda is a regularization parameter and when lamda > 0, it results in more pruning as it shrinks the similarity scores and resulrs in smaller output values for the leaves\n",
    "\n",
    "Output value = sum of residuals/number of residuals + lamda\n",
    "\n",
    "Similarity score = sum of residuals, squared/ number of residuals + 1"
   ]
  },
  {
   "cell_type": "code",
   "execution_count": 1,
   "id": "beee100f",
   "metadata": {},
   "outputs": [],
   "source": [
    "# Basic Libraries\n",
    "import numpy as np\n",
    "import pandas as pd\n",
    "import seaborn as sb\n",
    "import matplotlib.pyplot as plt # we only need pyplot\n",
    "import xgboost as xgb\n",
    "\n",
    "from sklearn.metrics import mean_squared_error\n",
    "from sklearn.metrics import confusion_matrix\n",
    "from sklearn.metrics import plot_confusion_matrix\n",
    "\n",
    "from sklearn.model_selection import train_test_split\n",
    "from sklearn.metrics import accuracy_score\n",
    "\n",
    "sb.set()"
   ]
  },
  {
   "cell_type": "code",
   "execution_count": 2,
   "id": "e10669c1",
   "metadata": {},
   "outputs": [
    {
     "name": "stdout",
     "output_type": "stream",
     "text": [
      "<class 'pandas.core.frame.DataFrame'>\n",
      "RangeIndex: 649 entries, 0 to 648\n",
      "Data columns (total 33 columns):\n",
      " #   Column      Non-Null Count  Dtype \n",
      "---  ------      --------------  ----- \n",
      " 0   school      649 non-null    object\n",
      " 1   sex         649 non-null    object\n",
      " 2   age         649 non-null    int64 \n",
      " 3   address     649 non-null    object\n",
      " 4   famsize     649 non-null    object\n",
      " 5   Pstatus     649 non-null    object\n",
      " 6   Medu        649 non-null    int64 \n",
      " 7   Fedu        649 non-null    int64 \n",
      " 8   Mjob        649 non-null    object\n",
      " 9   Fjob        649 non-null    object\n",
      " 10  reason      649 non-null    object\n",
      " 11  guardian    649 non-null    object\n",
      " 12  traveltime  649 non-null    int64 \n",
      " 13  studytime   649 non-null    int64 \n",
      " 14  failures    649 non-null    int64 \n",
      " 15  schoolsup   649 non-null    object\n",
      " 16  famsup      649 non-null    object\n",
      " 17  paid        649 non-null    object\n",
      " 18  activities  649 non-null    object\n",
      " 19  nursery     649 non-null    object\n",
      " 20  higher      649 non-null    object\n",
      " 21  internet    649 non-null    object\n",
      " 22  romantic    649 non-null    object\n",
      " 23  famrel      649 non-null    int64 \n",
      " 24  freetime    649 non-null    int64 \n",
      " 25  goout       649 non-null    int64 \n",
      " 26  Dalc        649 non-null    int64 \n",
      " 27  Walc        649 non-null    int64 \n",
      " 28  health      649 non-null    int64 \n",
      " 29  absences    649 non-null    int64 \n",
      " 30  G1          649 non-null    int64 \n",
      " 31  G2          649 non-null    int64 \n",
      " 32  G3          649 non-null    int64 \n",
      "dtypes: int64(16), object(17)\n",
      "memory usage: 167.4+ KB\n"
     ]
    }
   ],
   "source": [
    "df = pd.read_csv(\"student-por.csv\", sep=\";\")\n",
    "df.info()"
   ]
  },
  {
   "cell_type": "markdown",
   "id": "2c76ed5e",
   "metadata": {},
   "source": [
    "## One-Hot Encoding\n",
    "\n",
    "Taking data that is categorical and splitting it into useable data types. EXMP: Medu has categories 0-4, using one-hot encoding allows for the data to be represented as 5 seperate columns of Medu_0, Medu_1, Medu_2, Medu_3, Medu_4"
   ]
  },
  {
   "cell_type": "code",
   "execution_count": 3,
   "id": "f2b14af0",
   "metadata": {
    "scrolled": true
   },
   "outputs": [
    {
     "name": "stdout",
     "output_type": "stream",
     "text": [
      "<class 'pandas.core.frame.DataFrame'>\n",
      "RangeIndex: 649 entries, 0 to 648\n",
      "Data columns (total 1 columns):\n",
      " #   Column  Non-Null Count  Dtype\n",
      "---  ------  --------------  -----\n",
      " 0   G3      649 non-null    int64\n",
      "dtypes: int64(1)\n",
      "memory usage: 5.2 KB\n"
     ]
    }
   ],
   "source": [
    "y = pd.DataFrame((df['G3'] >= 10).replace({True: 1, False: 0}))\n",
    "y.info()"
   ]
  },
  {
   "cell_type": "code",
   "execution_count": 4,
   "id": "e897ef1f",
   "metadata": {},
   "outputs": [],
   "source": [
    "df = df.drop('G3', axis=1).copy()"
   ]
  },
  {
   "cell_type": "code",
   "execution_count": 5,
   "id": "a8369829",
   "metadata": {},
   "outputs": [],
   "source": [
    "df['age'] = df['age'].astype(object)\n",
    "df['Medu'] = df['Medu'].astype(object)\n",
    "df['Fedu'] = df['Fedu'].astype(object)\n",
    "df['traveltime'] = df['traveltime'].astype(object)\n",
    "df['studytime'] = df['studytime'].astype(object)\n",
    "df['famrel'] = df['famrel'].astype(object)\n",
    "df['freetime'] = df['freetime'].astype(object)\n",
    "df['goout'] = df['goout'].astype(object)\n",
    "df['Dalc'] = df['Dalc'].astype(object)\n",
    "df['Walc'] = df['Walc'].astype(object)\n",
    "df['health'] = df['health'].astype(object)\n",
    "\n",
    "df['failures'] = df['failures'].astype(float)\n",
    "df['absences'] = df['absences'].astype(float)\n",
    "df['G1'] = df['G1'].astype(float)\n",
    "df['G2'] = df['G2'].astype(float)"
   ]
  },
  {
   "cell_type": "code",
   "execution_count": 6,
   "id": "666b79ab",
   "metadata": {},
   "outputs": [
    {
     "data": {
      "text/plain": [
       "school         object\n",
       "sex            object\n",
       "age            object\n",
       "address        object\n",
       "famsize        object\n",
       "Pstatus        object\n",
       "Medu           object\n",
       "Fedu           object\n",
       "Mjob           object\n",
       "Fjob           object\n",
       "reason         object\n",
       "guardian       object\n",
       "traveltime     object\n",
       "studytime      object\n",
       "failures      float64\n",
       "schoolsup      object\n",
       "famsup         object\n",
       "paid           object\n",
       "activities     object\n",
       "nursery        object\n",
       "higher         object\n",
       "internet       object\n",
       "romantic       object\n",
       "famrel         object\n",
       "freetime       object\n",
       "goout          object\n",
       "Dalc           object\n",
       "Walc           object\n",
       "health         object\n",
       "absences      float64\n",
       "G1            float64\n",
       "G2            float64\n",
       "dtype: object"
      ]
     },
     "execution_count": 6,
     "metadata": {},
     "output_type": "execute_result"
    }
   ],
   "source": [
    "df.dtypes"
   ]
  },
  {
   "cell_type": "code",
   "execution_count": 7,
   "id": "b870838c",
   "metadata": {},
   "outputs": [
    {
     "name": "stdout",
     "output_type": "stream",
     "text": [
      "<class 'pandas.core.frame.DataFrame'>\n",
      "RangeIndex: 649 entries, 0 to 648\n",
      "Data columns (total 12 columns):\n",
      " #   Column     Non-Null Count  Dtype  \n",
      "---  ------     --------------  -----  \n",
      " 0   Medu       649 non-null    object \n",
      " 1   Mjob       649 non-null    object \n",
      " 2   Fedu       649 non-null    object \n",
      " 3   studytime  649 non-null    object \n",
      " 4   higher     649 non-null    object \n",
      " 5   internet   649 non-null    object \n",
      " 6   Dalc       649 non-null    object \n",
      " 7   Walc       649 non-null    object \n",
      " 8   failures   649 non-null    float64\n",
      " 9   absences   649 non-null    float64\n",
      " 10  G1         649 non-null    float64\n",
      " 11  G2         649 non-null    float64\n",
      "dtypes: float64(4), object(8)\n",
      "memory usage: 61.0+ KB\n"
     ]
    }
   ],
   "source": [
    "tempDF = pd.DataFrame(df[['Medu', 'Mjob','Fedu' ,'studytime', 'higher', 'internet', 'Dalc', 'Walc', 'failures', 'absences', 'G1', 'G2']])\n",
    "tempDF.info()"
   ]
  },
  {
   "cell_type": "code",
   "execution_count": 8,
   "id": "d403502b",
   "metadata": {},
   "outputs": [
    {
     "name": "stdout",
     "output_type": "stream",
     "text": [
      "<class 'pandas.core.frame.DataFrame'>\n",
      "RangeIndex: 649 entries, 0 to 648\n",
      "Data columns (total 37 columns):\n",
      " #   Column         Non-Null Count  Dtype  \n",
      "---  ------         --------------  -----  \n",
      " 0   failures       649 non-null    float64\n",
      " 1   absences       649 non-null    float64\n",
      " 2   G1             649 non-null    float64\n",
      " 3   G2             649 non-null    float64\n",
      " 4   Medu_0         649 non-null    uint8  \n",
      " 5   Medu_1         649 non-null    uint8  \n",
      " 6   Medu_2         649 non-null    uint8  \n",
      " 7   Medu_3         649 non-null    uint8  \n",
      " 8   Medu_4         649 non-null    uint8  \n",
      " 9   Mjob_at_home   649 non-null    uint8  \n",
      " 10  Mjob_health    649 non-null    uint8  \n",
      " 11  Mjob_other     649 non-null    uint8  \n",
      " 12  Mjob_services  649 non-null    uint8  \n",
      " 13  Mjob_teacher   649 non-null    uint8  \n",
      " 14  Fedu_0         649 non-null    uint8  \n",
      " 15  Fedu_1         649 non-null    uint8  \n",
      " 16  Fedu_2         649 non-null    uint8  \n",
      " 17  Fedu_3         649 non-null    uint8  \n",
      " 18  Fedu_4         649 non-null    uint8  \n",
      " 19  studytime_1    649 non-null    uint8  \n",
      " 20  studytime_2    649 non-null    uint8  \n",
      " 21  studytime_3    649 non-null    uint8  \n",
      " 22  studytime_4    649 non-null    uint8  \n",
      " 23  higher_no      649 non-null    uint8  \n",
      " 24  higher_yes     649 non-null    uint8  \n",
      " 25  internet_no    649 non-null    uint8  \n",
      " 26  internet_yes   649 non-null    uint8  \n",
      " 27  Dalc_1         649 non-null    uint8  \n",
      " 28  Dalc_2         649 non-null    uint8  \n",
      " 29  Dalc_3         649 non-null    uint8  \n",
      " 30  Dalc_4         649 non-null    uint8  \n",
      " 31  Dalc_5         649 non-null    uint8  \n",
      " 32  Walc_1         649 non-null    uint8  \n",
      " 33  Walc_2         649 non-null    uint8  \n",
      " 34  Walc_3         649 non-null    uint8  \n",
      " 35  Walc_4         649 non-null    uint8  \n",
      " 36  Walc_5         649 non-null    uint8  \n",
      "dtypes: float64(4), uint8(33)\n",
      "memory usage: 41.3 KB\n"
     ]
    },
    {
     "name": "stderr",
     "output_type": "stream",
     "text": [
      "C:\\Users\\User\\anaconda3\\lib\\site-packages\\pandas\\core\\algorithms.py:798: FutureWarning: In a future version, the Index constructor will not infer numeric dtypes when passed object-dtype sequences (matching Series behavior)\n",
      "  uniques = Index(uniques)\n"
     ]
    }
   ],
   "source": [
    "X_encoded = pd.get_dummies(tempDF, columns=['Medu', 'Mjob','Fedu' ,'studytime', 'higher', 'internet', 'Dalc', 'Walc'])\n",
    "\n",
    "X_encoded.info()"
   ]
  },
  {
   "cell_type": "markdown",
   "id": "5e4264e3",
   "metadata": {},
   "source": [
    "## Applying XGBoost model"
   ]
  },
  {
   "cell_type": "code",
   "execution_count": 9,
   "id": "39b88977",
   "metadata": {},
   "outputs": [],
   "source": [
    "X_train, X_test, y_train, y_test = train_test_split(X_encoded, y, test_size = 0.25)"
   ]
  },
  {
   "cell_type": "code",
   "execution_count": 18,
   "id": "7b3d0db0",
   "metadata": {},
   "outputs": [
    {
     "name": "stdout",
     "output_type": "stream",
     "text": [
      "[17:39:14] WARNING: C:\\Users\\dev-admin\\croot2\\xgboost-split_1675461376218\\work\\src\\learner.cc:767: \n",
      "Parameters: { \"learn_rate\" } are not used.\n",
      "\n",
      "[0]\tvalidation_0-aucpr:0.92311\n",
      "[1]\tvalidation_0-aucpr:0.94429\n",
      "[2]\tvalidation_0-aucpr:0.97668\n",
      "[3]\tvalidation_0-aucpr:0.97757\n",
      "[4]\tvalidation_0-aucpr:0.97733\n",
      "[5]\tvalidation_0-aucpr:0.97744\n",
      "[6]\tvalidation_0-aucpr:0.97602\n",
      "[7]\tvalidation_0-aucpr:0.97577\n",
      "[8]\tvalidation_0-aucpr:0.98158\n",
      "[9]\tvalidation_0-aucpr:0.98171\n",
      "[10]\tvalidation_0-aucpr:0.98185\n",
      "[11]\tvalidation_0-aucpr:0.98784\n",
      "[12]\tvalidation_0-aucpr:0.98834\n",
      "[13]\tvalidation_0-aucpr:0.98848\n",
      "[14]\tvalidation_0-aucpr:0.98904\n",
      "[15]\tvalidation_0-aucpr:0.99022\n",
      "[16]\tvalidation_0-aucpr:0.99054\n",
      "[17]\tvalidation_0-aucpr:0.99077\n",
      "[18]\tvalidation_0-aucpr:0.99076\n",
      "[19]\tvalidation_0-aucpr:0.99104\n",
      "[20]\tvalidation_0-aucpr:0.99097\n",
      "[21]\tvalidation_0-aucpr:0.99069\n",
      "[22]\tvalidation_0-aucpr:0.99061\n",
      "[23]\tvalidation_0-aucpr:0.99065\n",
      "[24]\tvalidation_0-aucpr:0.99070\n",
      "[25]\tvalidation_0-aucpr:0.99057\n",
      "[26]\tvalidation_0-aucpr:0.99058\n",
      "[27]\tvalidation_0-aucpr:0.99075\n",
      "[28]\tvalidation_0-aucpr:0.99080\n"
     ]
    },
    {
     "data": {
      "text/plain": [
       "XGBClassifier(base_score=None, booster=None, callbacks=None,\n",
       "              colsample_bylevel=None, colsample_bynode=None,\n",
       "              colsample_bytree=0.5, early_stopping_rounds=None,\n",
       "              enable_categorical=False, eval_metric=None, feature_types=None,\n",
       "              gamma=0.25, gpu_id=None, grow_policy=None, importance_type=None,\n",
       "              interaction_constraints=None, learn_rate=0.1, learning_rate=None,\n",
       "              max_bin=None, max_cat_threshold=None, max_cat_to_onehot=None,\n",
       "              max_delta_step=None, max_depth=4, max_leaves=None,\n",
       "              min_child_weight=None, missing=nan, monotone_constraints=None,\n",
       "              n_estimators=100, n_jobs=None, num_parallel_tree=None,\n",
       "              predictor=None, ...)"
      ]
     },
     "execution_count": 18,
     "metadata": {},
     "output_type": "execute_result"
    }
   ],
   "source": [
    "clf_xgb = xgb.XGBClassifier(seed=42,objective='binary:logistic',gamma=0.25,learn_rate=0.1,max_depth=4,reg_lambda=10,scale_pos_weight=3,subsample=0.9,colsample_bytree=0.5)\n",
    "clf_xgb.fit(X_train, y_train, verbose=True, early_stopping_rounds=10, eval_metric='aucpr', eval_set=[(X_test, y_test)])"
   ]
  },
  {
   "cell_type": "code",
   "execution_count": 19,
   "id": "41ddc538",
   "metadata": {},
   "outputs": [
    {
     "data": {
      "text/plain": [
       "<sklearn.metrics._plot.confusion_matrix.ConfusionMatrixDisplay at 0x1949b34aa30>"
      ]
     },
     "execution_count": 19,
     "metadata": {},
     "output_type": "execute_result"
    },
    {
     "data": {
      "image/png": "[encoded data removed]",
      "text/plain": [
       "<Figure size 640x480 with 2 Axes>"
      ]
     },
     "metadata": {},
     "output_type": "display_data"
    }
   ],
   "source": [
    "plot_confusion_matrix(clf_xgb, X_test, y_test, values_format='d', display_labels=[\"Pass\", \"Fail\"])"
   ]
  },
  {
   "cell_type": "code",
   "execution_count": null,
   "id": "6ba61cb3",
   "metadata": {},
   "outputs": [],
   "source": []
  }
 ],
 "metadata": {
  "kernelspec": {
   "display_name": "Python 3 (ipykernel)",
   "language": "python",
   "name": "python3"
  },
  "language_info": {
   "codemirror_mode": {
    "name": "ipython",
    "version": 3
   },
   "file_extension": ".py",
   "mimetype": "text/x-python",
   "name": "python",
   "nbconvert_exporter": "python",
   "pygments_lexer": "ipython3",
   "version": "3.9.13"
  }
 },
 "nbformat": 4,
 "nbformat_minor": 5
}
