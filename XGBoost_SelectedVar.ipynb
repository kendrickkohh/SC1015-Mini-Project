{
 "cells": [
  {
   "cell_type": "code",
   "execution_count": 1,
   "id": "beee100f",
   "metadata": {},
   "outputs": [],
   "source": [
    "# Basic Libraries\n",
    "import numpy as np\n",
    "import pandas as pd\n",
    "import seaborn as sb\n",
    "import matplotlib.pyplot as plt # we only need pyplot\n",
    "import xgboost as xgb\n",
    "\n",
    "from sklearn.metrics import mean_squared_error\n",
    "from sklearn.metrics import confusion_matrix\n",
    "from sklearn.metrics import plot_confusion_matrix\n",
    "\n",
    "from sklearn.model_selection import train_test_split\n",
    "from sklearn.metrics import accuracy_score\n",
    "\n",
    "sb.set()"
   ]
  },
  {
   "cell_type": "code",
   "execution_count": 2,
   "id": "e10669c1",
   "metadata": {},
   "outputs": [
    {
     "name": "stdout",
     "output_type": "stream",
     "text": [
      "<class 'pandas.core.frame.DataFrame'>\n",
      "RangeIndex: 649 entries, 0 to 648\n",
      "Data columns (total 33 columns):\n",
      " #   Column      Non-Null Count  Dtype \n",
      "---  ------      --------------  ----- \n",
      " 0   school      649 non-null    object\n",
      " 1   sex         649 non-null    object\n",
      " 2   age         649 non-null    int64 \n",
      " 3   address     649 non-null    object\n",
      " 4   famsize     649 non-null    object\n",
      " 5   Pstatus     649 non-null    object\n",
      " 6   Medu        649 non-null    int64 \n",
      " 7   Fedu        649 non-null    int64 \n",
      " 8   Mjob        649 non-null    object\n",
      " 9   Fjob        649 non-null    object\n",
      " 10  reason      649 non-null    object\n",
      " 11  guardian    649 non-null    object\n",
      " 12  traveltime  649 non-null    int64 \n",
      " 13  studytime   649 non-null    int64 \n",
      " 14  failures    649 non-null    int64 \n",
      " 15  schoolsup   649 non-null    object\n",
      " 16  famsup      649 non-null    object\n",
      " 17  paid        649 non-null    object\n",
      " 18  activities  649 non-null    object\n",
      " 19  nursery     649 non-null    object\n",
      " 20  higher      649 non-null    object\n",
      " 21  internet    649 non-null    object\n",
      " 22  romantic    649 non-null    object\n",
      " 23  famrel      649 non-null    int64 \n",
      " 24  freetime    649 non-null    int64 \n",
      " 25  goout       649 non-null    int64 \n",
      " 26  Dalc        649 non-null    int64 \n",
      " 27  Walc        649 non-null    int64 \n",
      " 28  health      649 non-null    int64 \n",
      " 29  absences    649 non-null    int64 \n",
      " 30  G1          649 non-null    int64 \n",
      " 31  G2          649 non-null    int64 \n",
      " 32  G3          649 non-null    int64 \n",
      "dtypes: int64(16), object(17)\n",
      "memory usage: 167.4+ KB\n"
     ]
    }
   ],
   "source": [
    "df = pd.read_csv(\"student-por.csv\", sep=\";\")\n",
    "df.info()"
   ]
  },
  {
   "cell_type": "markdown",
   "id": "2c76ed5e",
   "metadata": {},
   "source": [
    "## One-Hot Encoding\n",
    "\n",
    "Taking data that is categorical and splitting it into useable data types. EXMP: Medu has categories 0-4, using one-hot encoding allows for the data to be represented as 5 seperate columns of Medu_0, Medu_1, Medu_2, Medu_3, Medu_4"
   ]
  },
  {
   "cell_type": "code",
   "execution_count": 3,
   "id": "f2b14af0",
   "metadata": {
    "scrolled": true
   },
   "outputs": [
    {
     "name": "stdout",
     "output_type": "stream",
     "text": [
      "<class 'pandas.core.frame.DataFrame'>\n",
      "RangeIndex: 649 entries, 0 to 648\n",
      "Data columns (total 1 columns):\n",
      " #   Column  Non-Null Count  Dtype\n",
      "---  ------  --------------  -----\n",
      " 0   G3      649 non-null    int64\n",
      "dtypes: int64(1)\n",
      "memory usage: 5.2 KB\n"
     ]
    }
   ],
   "source": [
    "y = pd.DataFrame((df['G3'] >= 10).replace({True: 1, False: 0}))\n",
    "y.info()"
   ]
  },
  {
   "cell_type": "code",
   "execution_count": 4,
   "id": "e897ef1f",
   "metadata": {},
   "outputs": [],
   "source": [
    "df = df.drop('G3', axis=1).copy()"
   ]
  },
  {
   "cell_type": "code",
   "execution_count": 5,
   "id": "a8369829",
   "metadata": {},
   "outputs": [],
   "source": [
    "df['age'] = df['age'].astype(object)\n",
    "df['Medu'] = df['Medu'].astype(object)\n",
    "df['Fedu'] = df['Fedu'].astype(object)\n",
    "df['traveltime'] = df['traveltime'].astype(object)\n",
    "df['studytime'] = df['studytime'].astype(object)\n",
    "df['famrel'] = df['famrel'].astype(object)\n",
    "df['freetime'] = df['freetime'].astype(object)\n",
    "df['goout'] = df['goout'].astype(object)\n",
    "df['Dalc'] = df['Dalc'].astype(object)\n",
    "df['Walc'] = df['Walc'].astype(object)\n",
    "df['health'] = df['health'].astype(object)\n",
    "\n",
    "df['failures'] = df['failures'].astype(float)\n",
    "df['absences'] = df['absences'].astype(float)\n",
    "df['G1'] = df['G1'].astype(float)\n",
    "df['G2'] = df['G2'].astype(float)"
   ]
  },
  {
   "cell_type": "code",
   "execution_count": 6,
   "id": "666b79ab",
   "metadata": {},
   "outputs": [
    {
     "data": {
      "text/plain": [
       "school         object\n",
       "sex            object\n",
       "age            object\n",
       "address        object\n",
       "famsize        object\n",
       "Pstatus        object\n",
       "Medu           object\n",
       "Fedu           object\n",
       "Mjob           object\n",
       "Fjob           object\n",
       "reason         object\n",
       "guardian       object\n",
       "traveltime     object\n",
       "studytime      object\n",
       "failures      float64\n",
       "schoolsup      object\n",
       "famsup         object\n",
       "paid           object\n",
       "activities     object\n",
       "nursery        object\n",
       "higher         object\n",
       "internet       object\n",
       "romantic       object\n",
       "famrel         object\n",
       "freetime       object\n",
       "goout          object\n",
       "Dalc           object\n",
       "Walc           object\n",
       "health         object\n",
       "absences      float64\n",
       "G1            float64\n",
       "G2            float64\n",
       "dtype: object"
      ]
     },
     "execution_count": 6,
     "metadata": {},
     "output_type": "execute_result"
    }
   ],
   "source": [
    "df.dtypes"
   ]
  },
  {
   "cell_type": "code",
   "execution_count": 7,
   "id": "b870838c",
   "metadata": {},
   "outputs": [
    {
     "name": "stdout",
     "output_type": "stream",
     "text": [
      "<class 'pandas.core.frame.DataFrame'>\n",
      "RangeIndex: 649 entries, 0 to 648\n",
      "Data columns (total 13 columns):\n",
      " #   Column      Non-Null Count  Dtype  \n",
      "---  ------      --------------  -----  \n",
      " 0   Medu        649 non-null    object \n",
      " 1   age         649 non-null    object \n",
      " 2   Fedu        649 non-null    object \n",
      " 3   studytime   649 non-null    object \n",
      " 4   traveltime  649 non-null    object \n",
      " 5   failures    649 non-null    float64\n",
      " 6   famrel      649 non-null    object \n",
      " 7   freetime    649 non-null    object \n",
      " 8   goout       649 non-null    object \n",
      " 9   Dalc        649 non-null    object \n",
      " 10  Walc        649 non-null    object \n",
      " 11  health      649 non-null    object \n",
      " 12  absences    649 non-null    float64\n",
      "dtypes: float64(2), object(11)\n",
      "memory usage: 66.0+ KB\n"
     ]
    }
   ],
   "source": [
    "tempDF = pd.DataFrame(df[['Medu', 'age','Fedu' ,'studytime', 'traveltime', 'failures', 'famrel', 'freetime', 'goout', 'Dalc', 'Walc', 'health', 'absences']])\n",
    "tempDF.info()"
   ]
  },
  {
   "cell_type": "code",
   "execution_count": 8,
   "id": "d403502b",
   "metadata": {},
   "outputs": [
    {
     "name": "stdout",
     "output_type": "stream",
     "text": [
      "<class 'pandas.core.frame.DataFrame'>\n",
      "RangeIndex: 649 entries, 0 to 648\n",
      "Data columns (total 84 columns):\n",
      " #   Column         Non-Null Count  Dtype\n",
      "---  ------         --------------  -----\n",
      " 0   Medu_0         649 non-null    uint8\n",
      " 1   Medu_1         649 non-null    uint8\n",
      " 2   Medu_2         649 non-null    uint8\n",
      " 3   Medu_3         649 non-null    uint8\n",
      " 4   Medu_4         649 non-null    uint8\n",
      " 5   age_15         649 non-null    uint8\n",
      " 6   age_16         649 non-null    uint8\n",
      " 7   age_17         649 non-null    uint8\n",
      " 8   age_18         649 non-null    uint8\n",
      " 9   age_19         649 non-null    uint8\n",
      " 10  age_20         649 non-null    uint8\n",
      " 11  age_21         649 non-null    uint8\n",
      " 12  age_22         649 non-null    uint8\n",
      " 13  Fedu_0         649 non-null    uint8\n",
      " 14  Fedu_1         649 non-null    uint8\n",
      " 15  Fedu_2         649 non-null    uint8\n",
      " 16  Fedu_3         649 non-null    uint8\n",
      " 17  Fedu_4         649 non-null    uint8\n",
      " 18  studytime_1    649 non-null    uint8\n",
      " 19  studytime_2    649 non-null    uint8\n",
      " 20  studytime_3    649 non-null    uint8\n",
      " 21  studytime_4    649 non-null    uint8\n",
      " 22  traveltime_1   649 non-null    uint8\n",
      " 23  traveltime_2   649 non-null    uint8\n",
      " 24  traveltime_3   649 non-null    uint8\n",
      " 25  traveltime_4   649 non-null    uint8\n",
      " 26  failures_0.0   649 non-null    uint8\n",
      " 27  failures_1.0   649 non-null    uint8\n",
      " 28  failures_2.0   649 non-null    uint8\n",
      " 29  failures_3.0   649 non-null    uint8\n",
      " 30  famrel_1       649 non-null    uint8\n",
      " 31  famrel_2       649 non-null    uint8\n",
      " 32  famrel_3       649 non-null    uint8\n",
      " 33  famrel_4       649 non-null    uint8\n",
      " 34  famrel_5       649 non-null    uint8\n",
      " 35  freetime_1     649 non-null    uint8\n",
      " 36  freetime_2     649 non-null    uint8\n",
      " 37  freetime_3     649 non-null    uint8\n",
      " 38  freetime_4     649 non-null    uint8\n",
      " 39  freetime_5     649 non-null    uint8\n",
      " 40  goout_1        649 non-null    uint8\n",
      " 41  goout_2        649 non-null    uint8\n",
      " 42  goout_3        649 non-null    uint8\n",
      " 43  goout_4        649 non-null    uint8\n",
      " 44  goout_5        649 non-null    uint8\n",
      " 45  Dalc_1         649 non-null    uint8\n",
      " 46  Dalc_2         649 non-null    uint8\n",
      " 47  Dalc_3         649 non-null    uint8\n",
      " 48  Dalc_4         649 non-null    uint8\n",
      " 49  Dalc_5         649 non-null    uint8\n",
      " 50  Walc_1         649 non-null    uint8\n",
      " 51  Walc_2         649 non-null    uint8\n",
      " 52  Walc_3         649 non-null    uint8\n",
      " 53  Walc_4         649 non-null    uint8\n",
      " 54  Walc_5         649 non-null    uint8\n",
      " 55  health_1       649 non-null    uint8\n",
      " 56  health_2       649 non-null    uint8\n",
      " 57  health_3       649 non-null    uint8\n",
      " 58  health_4       649 non-null    uint8\n",
      " 59  health_5       649 non-null    uint8\n",
      " 60  absences_0.0   649 non-null    uint8\n",
      " 61  absences_1.0   649 non-null    uint8\n",
      " 62  absences_2.0   649 non-null    uint8\n",
      " 63  absences_3.0   649 non-null    uint8\n",
      " 64  absences_4.0   649 non-null    uint8\n",
      " 65  absences_5.0   649 non-null    uint8\n",
      " 66  absences_6.0   649 non-null    uint8\n",
      " 67  absences_7.0   649 non-null    uint8\n",
      " 68  absences_8.0   649 non-null    uint8\n",
      " 69  absences_9.0   649 non-null    uint8\n",
      " 70  absences_10.0  649 non-null    uint8\n",
      " 71  absences_11.0  649 non-null    uint8\n",
      " 72  absences_12.0  649 non-null    uint8\n",
      " 73  absences_13.0  649 non-null    uint8\n",
      " 74  absences_14.0  649 non-null    uint8\n",
      " 75  absences_15.0  649 non-null    uint8\n",
      " 76  absences_16.0  649 non-null    uint8\n",
      " 77  absences_18.0  649 non-null    uint8\n",
      " 78  absences_21.0  649 non-null    uint8\n",
      " 79  absences_22.0  649 non-null    uint8\n",
      " 80  absences_24.0  649 non-null    uint8\n",
      " 81  absences_26.0  649 non-null    uint8\n",
      " 82  absences_30.0  649 non-null    uint8\n",
      " 83  absences_32.0  649 non-null    uint8\n",
      "dtypes: uint8(84)\n",
      "memory usage: 53.4 KB\n"
     ]
    },
    {
     "name": "stderr",
     "output_type": "stream",
     "text": [
      "C:\\Users\\User\\anaconda3\\lib\\site-packages\\pandas\\core\\algorithms.py:798: FutureWarning: In a future version, the Index constructor will not infer numeric dtypes when passed object-dtype sequences (matching Series behavior)\n",
      "  uniques = Index(uniques)\n"
     ]
    }
   ],
   "source": [
    "X_encoded = pd.get_dummies(tempDF, columns=['Medu', 'age','Fedu' ,'studytime', 'traveltime', 'failures', 'famrel', 'freetime', 'goout', 'Dalc', 'Walc', 'health', 'absences'])\n",
    "\n",
    "X_encoded.info()"
   ]
  },
  {
   "cell_type": "markdown",
   "id": "5e4264e3",
   "metadata": {},
   "source": [
    "## Applying XGBoost model"
   ]
  },
  {
   "cell_type": "code",
   "execution_count": 9,
   "id": "39b88977",
   "metadata": {},
   "outputs": [],
   "source": [
    "X_train, X_test, y_train, y_test = train_test_split(X_encoded, y, test_size = 0.25)"
   ]
  },
  {
   "cell_type": "code",
   "execution_count": 10,
   "id": "7b3d0db0",
   "metadata": {},
   "outputs": [
    {
     "name": "stdout",
     "output_type": "stream",
     "text": [
      "[17:48:15] WARNING: C:\\Users\\dev-admin\\croot2\\xgboost-split_1675461376218\\work\\src\\learner.cc:767: \n",
      "Parameters: { \"learn_rate\" } are not used.\n",
      "\n",
      "[0]\tvalidation_0-aucpr:0.87292\n",
      "[1]\tvalidation_0-aucpr:0.88965\n",
      "[2]\tvalidation_0-aucpr:0.88878\n",
      "[3]\tvalidation_0-aucpr:0.88878\n",
      "[4]\tvalidation_0-aucpr:0.88970\n",
      "[5]\tvalidation_0-aucpr:0.88880\n",
      "[6]\tvalidation_0-aucpr:0.90426\n",
      "[7]\tvalidation_0-aucpr:0.90406\n",
      "[8]\tvalidation_0-aucpr:0.90801\n",
      "[9]\tvalidation_0-aucpr:0.90698\n",
      "[10]\tvalidation_0-aucpr:0.90372\n",
      "[11]\tvalidation_0-aucpr:0.91095\n",
      "[12]\tvalidation_0-aucpr:0.92741\n",
      "[13]\tvalidation_0-aucpr:0.93193\n",
      "[14]\tvalidation_0-aucpr:0.93940\n",
      "[15]\tvalidation_0-aucpr:0.93815\n",
      "[16]\tvalidation_0-aucpr:0.93968\n",
      "[17]\tvalidation_0-aucpr:0.94099\n",
      "[18]\tvalidation_0-aucpr:0.94261\n",
      "[19]\tvalidation_0-aucpr:0.94662\n",
      "[20]\tvalidation_0-aucpr:0.94312\n",
      "[21]\tvalidation_0-aucpr:0.94525\n",
      "[22]\tvalidation_0-aucpr:0.94567\n",
      "[23]\tvalidation_0-aucpr:0.94437\n",
      "[24]\tvalidation_0-aucpr:0.94605\n",
      "[25]\tvalidation_0-aucpr:0.94550\n",
      "[26]\tvalidation_0-aucpr:0.94613\n",
      "[27]\tvalidation_0-aucpr:0.94592\n",
      "[28]\tvalidation_0-aucpr:0.94715\n",
      "[29]\tvalidation_0-aucpr:0.94550\n",
      "[30]\tvalidation_0-aucpr:0.94674\n",
      "[31]\tvalidation_0-aucpr:0.94832\n",
      "[32]\tvalidation_0-aucpr:0.94986\n",
      "[33]\tvalidation_0-aucpr:0.95135\n"
     ]
    },
    {
     "name": "stderr",
     "output_type": "stream",
     "text": [
      "C:\\Users\\User\\anaconda3\\lib\\site-packages\\xgboost\\sklearn.py:835: UserWarning: `eval_metric` in `fit` method is deprecated for better compatibility with scikit-learn, use `eval_metric` in constructor or`set_params` instead.\n",
      "  warnings.warn(\n",
      "C:\\Users\\User\\anaconda3\\lib\\site-packages\\xgboost\\sklearn.py:835: UserWarning: `early_stopping_rounds` in `fit` method is deprecated for better compatibility with scikit-learn, use `early_stopping_rounds` in constructor or`set_params` instead.\n",
      "  warnings.warn(\n"
     ]
    },
    {
     "name": "stdout",
     "output_type": "stream",
     "text": [
      "[34]\tvalidation_0-aucpr:0.94943\n",
      "[35]\tvalidation_0-aucpr:0.94745\n",
      "[36]\tvalidation_0-aucpr:0.94711\n",
      "[37]\tvalidation_0-aucpr:0.94839\n",
      "[38]\tvalidation_0-aucpr:0.94879\n",
      "[39]\tvalidation_0-aucpr:0.94672\n",
      "[40]\tvalidation_0-aucpr:0.94595\n",
      "[41]\tvalidation_0-aucpr:0.94405\n",
      "[42]\tvalidation_0-aucpr:0.94338\n",
      "[43]\tvalidation_0-aucpr:0.94298\n"
     ]
    },
    {
     "data": {
      "text/plain": [
       "XGBClassifier(base_score=None, booster=None, callbacks=None,\n",
       "              colsample_bylevel=None, colsample_bynode=None,\n",
       "              colsample_bytree=0.5, early_stopping_rounds=None,\n",
       "              enable_categorical=False, eval_metric=None, feature_types=None,\n",
       "              gamma=0.25, gpu_id=None, grow_policy=None, importance_type=None,\n",
       "              interaction_constraints=None, learn_rate=0.1, learning_rate=None,\n",
       "              max_bin=None, max_cat_threshold=None, max_cat_to_onehot=None,\n",
       "              max_delta_step=None, max_depth=4, max_leaves=None,\n",
       "              min_child_weight=None, missing=nan, monotone_constraints=None,\n",
       "              n_estimators=100, n_jobs=None, num_parallel_tree=None,\n",
       "              predictor=None, ...)"
      ]
     },
     "execution_count": 10,
     "metadata": {},
     "output_type": "execute_result"
    }
   ],
   "source": [
    "clf_xgb = xgb.XGBClassifier(seed=42,objective='binary:logistic',gamma=0.25,learn_rate=0.1,max_depth=4,reg_lambda=10,scale_pos_weight=3,subsample=0.9,colsample_bytree=0.5)\n",
    "clf_xgb.fit(X_train, y_train, verbose=True, early_stopping_rounds=10, eval_metric='aucpr', eval_set=[(X_test, y_test)])"
   ]
  },
  {
   "cell_type": "code",
   "execution_count": 11,
   "id": "41ddc538",
   "metadata": {},
   "outputs": [
    {
     "name": "stderr",
     "output_type": "stream",
     "text": [
      "C:\\Users\\User\\anaconda3\\lib\\site-packages\\sklearn\\utils\\deprecation.py:87: FutureWarning: Function plot_confusion_matrix is deprecated; Function `plot_confusion_matrix` is deprecated in 1.0 and will be removed in 1.2. Use one of the class methods: ConfusionMatrixDisplay.from_predictions or ConfusionMatrixDisplay.from_estimator.\n",
      "  warnings.warn(msg, category=FutureWarning)\n"
     ]
    },
    {
     "data": {
      "text/plain": [
       "<sklearn.metrics._plot.confusion_matrix.ConfusionMatrixDisplay at 0x2188cd1ba60>"
      ]
     },
     "execution_count": 11,
     "metadata": {},
     "output_type": "execute_result"
    },
    {
     "data": {
      "image/png": "[encoded data removed]",
      "text/plain": [
       "<Figure size 640x480 with 2 Axes>"
      ]
     },
     "metadata": {},
     "output_type": "display_data"
    }
   ],
   "source": [
    "plot_confusion_matrix(clf_xgb, X_test, y_test, values_format='d', display_labels=[\"Pass\", \"Fail\"])"
   ]
  },
  {
   "cell_type": "markdown",
   "id": "f9c4e2b2",
   "metadata": {},
   "source": [
    "# Conclusion\n",
    "\n",
    "Accuracy = (TN + TP)/Total\n",
    "<br>\n",
    "Accuracy = (3 + 132)/163 (0.828)\n",
    "\n",
    "When using selected variables derived from K-means clustering, we find that there is a decrease in accuracy from 0.951 to 0.828, showing that using all variables to predict G3 is a more accurate model as comapred to selected variables from K-means clustering"
   ]
  }
 ],
 "metadata": {
  "kernelspec": {
   "display_name": "Python 3 (ipykernel)",
   "language": "python",
   "name": "python3"
  },
  "language_info": {
   "codemirror_mode": {
    "name": "ipython",
    "version": 3
   },
   "file_extension": ".py",
   "mimetype": "text/x-python",
   "name": "python",
   "nbconvert_exporter": "python",
   "pygments_lexer": "ipython3",
   "version": "3.9.13"
  }
 },
 "nbformat": 4,
 "nbformat_minor": 5
}
